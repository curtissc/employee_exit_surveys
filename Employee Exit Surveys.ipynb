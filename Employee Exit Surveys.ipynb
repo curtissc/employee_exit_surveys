{
 "cells": [
  {
   "cell_type": "markdown",
   "metadata": {},
   "source": [
    "# DataQuest: Employee Exit Surveys"
   ]
  },
  {
   "cell_type": "markdown",
   "metadata": {},
   "source": [
    "DataQuest Guided Project: Clean and Analyze Employee Exit Surveys\n",
    "\n",
    "In this guided project, we'll work with exit surveys from employees of the Department of Education, Training and Employment (DETE) and the Technical and Further Education (TAFE) institute in Queensland, Australia. You can find the DETE exit survey data [here](https://data.gov.au/dataset/ds-qld-fe96ff30-d157-4a81-851d-215f2a0fe26d/details?q=exit%20survey). The original TAFE exit survey data is no longer available. We've made some slight modifications to the original datasets to make them easier to work with, including changing the encoding to UTF-8 (the original ones are encoded using cp1252.)\n",
    "\n",
    "In this project, we'll play the role of data analyst and pretend our stakeholders want to know the following:\n",
    "\n",
    "1. **Are employees who only worked for the institutes for a short period of time resigning due to some kind of dissatisfaction? What about employees who have been there longer?**\n",
    "2. **Are younger employees resigning due to some kind of dissatisfaction? What about older employees?**\n"
   ]
  },
  {
   "cell_type": "code",
   "execution_count": 1,
   "metadata": {},
   "outputs": [],
   "source": [
    "import pandas as pd\n",
    "import numpy as np\n",
    "import matplotlib.pyplot as plt\n",
    "import matplotlib.style as style\n",
    "%matplotlib inline\n",
    "import seaborn as sns"
   ]
  },
  {
   "cell_type": "code",
   "execution_count": 2,
   "metadata": {},
   "outputs": [],
   "source": [
    "dete = pd.read_csv(\"../Datasets/dete_survey.csv\", parse_dates=['Cease Date', 'DETE Start Date', 'Role Start Date'], na_values=['Not Stated', 'nan', 'NaN', '-'])\n",
    "tafe = pd.read_csv(\"../Datasets/tafe_survey.csv\")"
   ]
  },
  {
   "cell_type": "code",
   "execution_count": 3,
   "metadata": {},
   "outputs": [
    {
     "name": "stdout",
     "output_type": "stream",
     "text": [
      "<class 'pandas.core.frame.DataFrame'>\n",
      "RangeIndex: 822 entries, 0 to 821\n",
      "Data columns (total 56 columns):\n",
      " #   Column                               Non-Null Count  Dtype         \n",
      "---  ------                               --------------  -----         \n",
      " 0   ID                                   822 non-null    int64         \n",
      " 1   SeparationType                       822 non-null    object        \n",
      " 2   Cease Date                           788 non-null    datetime64[ns]\n",
      " 3   DETE Start Date                      749 non-null    datetime64[ns]\n",
      " 4   Role Start Date                      724 non-null    object        \n",
      " 5   Position                             817 non-null    object        \n",
      " 6   Classification                       455 non-null    object        \n",
      " 7   Region                               717 non-null    object        \n",
      " 8   Business Unit                        126 non-null    object        \n",
      " 9   Employment Status                    817 non-null    object        \n",
      " 10  Career move to public sector         822 non-null    bool          \n",
      " 11  Career move to private sector        822 non-null    bool          \n",
      " 12  Interpersonal conflicts              822 non-null    bool          \n",
      " 13  Job dissatisfaction                  822 non-null    bool          \n",
      " 14  Dissatisfaction with the department  822 non-null    bool          \n",
      " 15  Physical work environment            822 non-null    bool          \n",
      " 16  Lack of recognition                  822 non-null    bool          \n",
      " 17  Lack of job security                 822 non-null    bool          \n",
      " 18  Work location                        822 non-null    bool          \n",
      " 19  Employment conditions                822 non-null    bool          \n",
      " 20  Maternity/family                     822 non-null    bool          \n",
      " 21  Relocation                           822 non-null    bool          \n",
      " 22  Study/Travel                         822 non-null    bool          \n",
      " 23  Ill Health                           822 non-null    bool          \n",
      " 24  Traumatic incident                   822 non-null    bool          \n",
      " 25  Work life balance                    822 non-null    bool          \n",
      " 26  Workload                             822 non-null    bool          \n",
      " 27  None of the above                    822 non-null    bool          \n",
      " 28  Professional Development             808 non-null    object        \n",
      " 29  Opportunities for promotion          735 non-null    object        \n",
      " 30  Staff morale                         816 non-null    object        \n",
      " 31  Workplace issue                      788 non-null    object        \n",
      " 32  Physical environment                 817 non-null    object        \n",
      " 33  Worklife balance                     815 non-null    object        \n",
      " 34  Stress and pressure support          810 non-null    object        \n",
      " 35  Performance of supervisor            813 non-null    object        \n",
      " 36  Peer support                         812 non-null    object        \n",
      " 37  Initiative                           813 non-null    object        \n",
      " 38  Skills                               811 non-null    object        \n",
      " 39  Coach                                767 non-null    object        \n",
      " 40  Career Aspirations                   746 non-null    object        \n",
      " 41  Feedback                             792 non-null    object        \n",
      " 42  Further PD                           768 non-null    object        \n",
      " 43  Communication                        814 non-null    object        \n",
      " 44  My say                               812 non-null    object        \n",
      " 45  Information                          816 non-null    object        \n",
      " 46  Kept informed                        813 non-null    object        \n",
      " 47  Wellness programs                    766 non-null    object        \n",
      " 48  Health & Safety                      793 non-null    object        \n",
      " 49  Gender                               798 non-null    object        \n",
      " 50  Age                                  811 non-null    object        \n",
      " 51  Aboriginal                           16 non-null     object        \n",
      " 52  Torres Strait                        3 non-null      object        \n",
      " 53  South Sea                            7 non-null      object        \n",
      " 54  Disability                           23 non-null     object        \n",
      " 55  NESB                                 32 non-null     object        \n",
      "dtypes: bool(18), datetime64[ns](2), int64(1), object(35)\n",
      "memory usage: 258.6+ KB\n"
     ]
    }
   ],
   "source": [
    "dete.info() # date parsing didn't work"
   ]
  },
  {
   "cell_type": "code",
   "execution_count": 4,
   "metadata": {},
   "outputs": [
    {
     "data": {
      "text/plain": [
       "Index(['Record ID', 'Institute', 'WorkArea', 'CESSATION YEAR',\n",
       "       'Reason for ceasing employment',\n",
       "       'Contributing Factors. Career Move - Public Sector ',\n",
       "       'Contributing Factors. Career Move - Private Sector ',\n",
       "       'Contributing Factors. Career Move - Self-employment',\n",
       "       'Contributing Factors. Ill Health',\n",
       "       'Contributing Factors. Maternity/Family',\n",
       "       'Contributing Factors. Dissatisfaction',\n",
       "       'Contributing Factors. Job Dissatisfaction',\n",
       "       'Contributing Factors. Interpersonal Conflict',\n",
       "       'Contributing Factors. Study', 'Contributing Factors. Travel',\n",
       "       'Contributing Factors. Other', 'Contributing Factors. NONE',\n",
       "       'Main Factor. Which of these was the main factor for leaving?',\n",
       "       'InstituteViews. Topic:1. I feel the senior leadership had a clear vision and direction',\n",
       "       'InstituteViews. Topic:2. I was given access to skills training to help me do my job better',\n",
       "       'InstituteViews. Topic:3. I was given adequate opportunities for personal development',\n",
       "       'InstituteViews. Topic:4. I was given adequate opportunities for promotion within %Institute]Q25LBL%',\n",
       "       'InstituteViews. Topic:5. I felt the salary for the job was right for the responsibilities I had',\n",
       "       'InstituteViews. Topic:6. The organisation recognised when staff did good work',\n",
       "       'InstituteViews. Topic:7. Management was generally supportive of me',\n",
       "       'InstituteViews. Topic:8. Management was generally supportive of my team',\n",
       "       'InstituteViews. Topic:9. I was kept informed of the changes in the organisation which would affect me',\n",
       "       'InstituteViews. Topic:10. Staff morale was positive within the Institute',\n",
       "       'InstituteViews. Topic:11. If I had a workplace issue it was dealt with quickly',\n",
       "       'InstituteViews. Topic:12. If I had a workplace issue it was dealt with efficiently',\n",
       "       'InstituteViews. Topic:13. If I had a workplace issue it was dealt with discreetly',\n",
       "       'WorkUnitViews. Topic:14. I was satisfied with the quality of the management and supervision within my work unit',\n",
       "       'WorkUnitViews. Topic:15. I worked well with my colleagues',\n",
       "       'WorkUnitViews. Topic:16. My job was challenging and interesting',\n",
       "       'WorkUnitViews. Topic:17. I was encouraged to use my initiative in the course of my work',\n",
       "       'WorkUnitViews. Topic:18. I had sufficient contact with other people in my job',\n",
       "       'WorkUnitViews. Topic:19. I was given adequate support and co-operation by my peers to enable me to do my job',\n",
       "       'WorkUnitViews. Topic:20. I was able to use the full range of my skills in my job',\n",
       "       'WorkUnitViews. Topic:21. I was able to use the full range of my abilities in my job. ; Category:Level of Agreement; Question:YOUR VIEWS ABOUT YOUR WORK UNIT]',\n",
       "       'WorkUnitViews. Topic:22. I was able to use the full range of my knowledge in my job',\n",
       "       'WorkUnitViews. Topic:23. My job provided sufficient variety',\n",
       "       'WorkUnitViews. Topic:24. I was able to cope with the level of stress and pressure in my job',\n",
       "       'WorkUnitViews. Topic:25. My job allowed me to balance the demands of work and family to my satisfaction',\n",
       "       'WorkUnitViews. Topic:26. My supervisor gave me adequate personal recognition and feedback on my performance',\n",
       "       'WorkUnitViews. Topic:27. My working environment was satisfactory e.g. sufficient space, good lighting, suitable seating and working area',\n",
       "       'WorkUnitViews. Topic:28. I was given the opportunity to mentor and coach others in order for me to pass on my skills and knowledge prior to my cessation date',\n",
       "       'WorkUnitViews. Topic:29. There was adequate communication between staff in my unit',\n",
       "       'WorkUnitViews. Topic:30. Staff morale was positive within my work unit',\n",
       "       'Induction. Did you undertake Workplace Induction?',\n",
       "       'InductionInfo. Topic:Did you undertake a Corporate Induction?',\n",
       "       'InductionInfo. Topic:Did you undertake a Institute Induction?',\n",
       "       'InductionInfo. Topic: Did you undertake Team Induction?',\n",
       "       'InductionInfo. Face to Face Topic:Did you undertake a Corporate Induction; Category:How it was conducted?',\n",
       "       'InductionInfo. On-line Topic:Did you undertake a Corporate Induction; Category:How it was conducted?',\n",
       "       'InductionInfo. Induction Manual Topic:Did you undertake a Corporate Induction?',\n",
       "       'InductionInfo. Face to Face Topic:Did you undertake a Institute Induction?',\n",
       "       'InductionInfo. On-line Topic:Did you undertake a Institute Induction?',\n",
       "       'InductionInfo. Induction Manual Topic:Did you undertake a Institute Induction?',\n",
       "       'InductionInfo. Face to Face Topic: Did you undertake Team Induction; Category?',\n",
       "       'InductionInfo. On-line Topic: Did you undertake Team Induction?process you undertook and how it was conducted.]',\n",
       "       'InductionInfo. Induction Manual Topic: Did you undertake Team Induction?',\n",
       "       'Workplace. Topic:Did you and your Manager develop a Performance and Professional Development Plan (PPDP)?',\n",
       "       'Workplace. Topic:Does your workplace promote a work culture free from all forms of unlawful discrimination?',\n",
       "       'Workplace. Topic:Does your workplace promote and practice the principles of employment equity?',\n",
       "       'Workplace. Topic:Does your workplace value the diversity of its employees?',\n",
       "       'Workplace. Topic:Would you recommend the Institute as an employer to others?',\n",
       "       'Gender. What is your Gender?', 'CurrentAge. Current Age',\n",
       "       'Employment Type. Employment Type', 'Classification. Classification',\n",
       "       'LengthofServiceOverall. Overall Length of Service at Institute (in years)',\n",
       "       'LengthofServiceCurrent. Length of Service at current workplace (in years)'],\n",
       "      dtype='object')"
      ]
     },
     "execution_count": 4,
     "metadata": {},
     "output_type": "execute_result"
    }
   ],
   "source": [
    "# tafe.info()\n",
    "tafe.columns"
   ]
  },
  {
   "cell_type": "code",
   "execution_count": 5,
   "metadata": {},
   "outputs": [
    {
     "data": {
      "text/html": [
       "<div>\n",
       "<style scoped>\n",
       "    .dataframe tbody tr th:only-of-type {\n",
       "        vertical-align: middle;\n",
       "    }\n",
       "\n",
       "    .dataframe tbody tr th {\n",
       "        vertical-align: top;\n",
       "    }\n",
       "\n",
       "    .dataframe thead th {\n",
       "        text-align: right;\n",
       "    }\n",
       "</style>\n",
       "<table border=\"1\" class=\"dataframe\">\n",
       "  <thead>\n",
       "    <tr style=\"text-align: right;\">\n",
       "      <th></th>\n",
       "      <th>ID</th>\n",
       "      <th>SeparationType</th>\n",
       "      <th>Cease Date</th>\n",
       "      <th>DETE Start Date</th>\n",
       "      <th>Role Start Date</th>\n",
       "      <th>Position</th>\n",
       "      <th>Classification</th>\n",
       "      <th>Region</th>\n",
       "      <th>Business Unit</th>\n",
       "      <th>Employment Status</th>\n",
       "      <th>...</th>\n",
       "      <th>Kept informed</th>\n",
       "      <th>Wellness programs</th>\n",
       "      <th>Health &amp; Safety</th>\n",
       "      <th>Gender</th>\n",
       "      <th>Age</th>\n",
       "      <th>Aboriginal</th>\n",
       "      <th>Torres Strait</th>\n",
       "      <th>South Sea</th>\n",
       "      <th>Disability</th>\n",
       "      <th>NESB</th>\n",
       "    </tr>\n",
       "  </thead>\n",
       "  <tbody>\n",
       "    <tr>\n",
       "      <th>0</th>\n",
       "      <td>1</td>\n",
       "      <td>Ill Health Retirement</td>\n",
       "      <td>2012-08-01</td>\n",
       "      <td>1984-01-01</td>\n",
       "      <td>2004</td>\n",
       "      <td>Public Servant</td>\n",
       "      <td>A01-A04</td>\n",
       "      <td>Central Office</td>\n",
       "      <td>Corporate Strategy and Peformance</td>\n",
       "      <td>Permanent Full-time</td>\n",
       "      <td>...</td>\n",
       "      <td>N</td>\n",
       "      <td>N</td>\n",
       "      <td>N</td>\n",
       "      <td>Male</td>\n",
       "      <td>56-60</td>\n",
       "      <td>NaN</td>\n",
       "      <td>NaN</td>\n",
       "      <td>NaN</td>\n",
       "      <td>NaN</td>\n",
       "      <td>Yes</td>\n",
       "    </tr>\n",
       "    <tr>\n",
       "      <th>1</th>\n",
       "      <td>2</td>\n",
       "      <td>Voluntary Early Retirement (VER)</td>\n",
       "      <td>2012-08-01</td>\n",
       "      <td>NaT</td>\n",
       "      <td>NaN</td>\n",
       "      <td>Public Servant</td>\n",
       "      <td>AO5-AO7</td>\n",
       "      <td>Central Office</td>\n",
       "      <td>Corporate Strategy and Peformance</td>\n",
       "      <td>Permanent Full-time</td>\n",
       "      <td>...</td>\n",
       "      <td>N</td>\n",
       "      <td>N</td>\n",
       "      <td>N</td>\n",
       "      <td>Male</td>\n",
       "      <td>56-60</td>\n",
       "      <td>NaN</td>\n",
       "      <td>NaN</td>\n",
       "      <td>NaN</td>\n",
       "      <td>NaN</td>\n",
       "      <td>NaN</td>\n",
       "    </tr>\n",
       "    <tr>\n",
       "      <th>2</th>\n",
       "      <td>3</td>\n",
       "      <td>Voluntary Early Retirement (VER)</td>\n",
       "      <td>2012-05-01</td>\n",
       "      <td>2011-01-01</td>\n",
       "      <td>2011</td>\n",
       "      <td>Schools Officer</td>\n",
       "      <td>NaN</td>\n",
       "      <td>Central Office</td>\n",
       "      <td>Education Queensland</td>\n",
       "      <td>Permanent Full-time</td>\n",
       "      <td>...</td>\n",
       "      <td>N</td>\n",
       "      <td>N</td>\n",
       "      <td>N</td>\n",
       "      <td>Male</td>\n",
       "      <td>61 or older</td>\n",
       "      <td>NaN</td>\n",
       "      <td>NaN</td>\n",
       "      <td>NaN</td>\n",
       "      <td>NaN</td>\n",
       "      <td>NaN</td>\n",
       "    </tr>\n",
       "    <tr>\n",
       "      <th>3</th>\n",
       "      <td>4</td>\n",
       "      <td>Resignation-Other reasons</td>\n",
       "      <td>2012-05-01</td>\n",
       "      <td>2005-01-01</td>\n",
       "      <td>2006</td>\n",
       "      <td>Teacher</td>\n",
       "      <td>Primary</td>\n",
       "      <td>Central Queensland</td>\n",
       "      <td>NaN</td>\n",
       "      <td>Permanent Full-time</td>\n",
       "      <td>...</td>\n",
       "      <td>A</td>\n",
       "      <td>N</td>\n",
       "      <td>A</td>\n",
       "      <td>Female</td>\n",
       "      <td>36-40</td>\n",
       "      <td>NaN</td>\n",
       "      <td>NaN</td>\n",
       "      <td>NaN</td>\n",
       "      <td>NaN</td>\n",
       "      <td>NaN</td>\n",
       "    </tr>\n",
       "    <tr>\n",
       "      <th>4</th>\n",
       "      <td>5</td>\n",
       "      <td>Age Retirement</td>\n",
       "      <td>2012-05-01</td>\n",
       "      <td>1970-01-01</td>\n",
       "      <td>1989</td>\n",
       "      <td>Head of Curriculum/Head of Special Education</td>\n",
       "      <td>NaN</td>\n",
       "      <td>South East</td>\n",
       "      <td>NaN</td>\n",
       "      <td>Permanent Full-time</td>\n",
       "      <td>...</td>\n",
       "      <td>N</td>\n",
       "      <td>A</td>\n",
       "      <td>M</td>\n",
       "      <td>Female</td>\n",
       "      <td>61 or older</td>\n",
       "      <td>NaN</td>\n",
       "      <td>NaN</td>\n",
       "      <td>NaN</td>\n",
       "      <td>NaN</td>\n",
       "      <td>NaN</td>\n",
       "    </tr>\n",
       "  </tbody>\n",
       "</table>\n",
       "<p>5 rows × 56 columns</p>\n",
       "</div>"
      ],
      "text/plain": [
       "   ID                    SeparationType Cease Date DETE Start Date  \\\n",
       "0   1             Ill Health Retirement 2012-08-01      1984-01-01   \n",
       "1   2  Voluntary Early Retirement (VER) 2012-08-01             NaT   \n",
       "2   3  Voluntary Early Retirement (VER) 2012-05-01      2011-01-01   \n",
       "3   4         Resignation-Other reasons 2012-05-01      2005-01-01   \n",
       "4   5                    Age Retirement 2012-05-01      1970-01-01   \n",
       "\n",
       "  Role Start Date                                      Position  \\\n",
       "0            2004                                Public Servant   \n",
       "1             NaN                                Public Servant   \n",
       "2            2011                               Schools Officer   \n",
       "3            2006                                       Teacher   \n",
       "4            1989  Head of Curriculum/Head of Special Education   \n",
       "\n",
       "  Classification              Region                      Business Unit  \\\n",
       "0        A01-A04      Central Office  Corporate Strategy and Peformance   \n",
       "1        AO5-AO7      Central Office  Corporate Strategy and Peformance   \n",
       "2            NaN      Central Office               Education Queensland   \n",
       "3        Primary  Central Queensland                                NaN   \n",
       "4            NaN          South East                                NaN   \n",
       "\n",
       "     Employment Status  ...  Kept informed  Wellness programs  \\\n",
       "0  Permanent Full-time  ...              N                  N   \n",
       "1  Permanent Full-time  ...              N                  N   \n",
       "2  Permanent Full-time  ...              N                  N   \n",
       "3  Permanent Full-time  ...              A                  N   \n",
       "4  Permanent Full-time  ...              N                  A   \n",
       "\n",
       "   Health & Safety  Gender          Age  Aboriginal  Torres Strait  South Sea  \\\n",
       "0                N    Male        56-60         NaN            NaN        NaN   \n",
       "1                N    Male        56-60         NaN            NaN        NaN   \n",
       "2                N    Male  61 or older         NaN            NaN        NaN   \n",
       "3                A  Female        36-40         NaN            NaN        NaN   \n",
       "4                M  Female  61 or older         NaN            NaN        NaN   \n",
       "\n",
       "   Disability  NESB  \n",
       "0         NaN   Yes  \n",
       "1         NaN   NaN  \n",
       "2         NaN   NaN  \n",
       "3         NaN   NaN  \n",
       "4         NaN   NaN  \n",
       "\n",
       "[5 rows x 56 columns]"
      ]
     },
     "execution_count": 5,
     "metadata": {},
     "output_type": "execute_result"
    }
   ],
   "source": [
    "dete.head()"
   ]
  },
  {
   "cell_type": "code",
   "execution_count": 6,
   "metadata": {},
   "outputs": [
    {
     "data": {
      "text/html": [
       "<div>\n",
       "<style scoped>\n",
       "    .dataframe tbody tr th:only-of-type {\n",
       "        vertical-align: middle;\n",
       "    }\n",
       "\n",
       "    .dataframe tbody tr th {\n",
       "        vertical-align: top;\n",
       "    }\n",
       "\n",
       "    .dataframe thead th {\n",
       "        text-align: right;\n",
       "    }\n",
       "</style>\n",
       "<table border=\"1\" class=\"dataframe\">\n",
       "  <thead>\n",
       "    <tr style=\"text-align: right;\">\n",
       "      <th></th>\n",
       "      <th>Record ID</th>\n",
       "      <th>Institute</th>\n",
       "      <th>WorkArea</th>\n",
       "      <th>CESSATION YEAR</th>\n",
       "      <th>Reason for ceasing employment</th>\n",
       "      <th>Contributing Factors. Career Move - Public Sector</th>\n",
       "      <th>Contributing Factors. Career Move - Private Sector</th>\n",
       "      <th>Contributing Factors. Career Move - Self-employment</th>\n",
       "      <th>Contributing Factors. Ill Health</th>\n",
       "      <th>Contributing Factors. Maternity/Family</th>\n",
       "      <th>...</th>\n",
       "      <th>Workplace. Topic:Does your workplace promote a work culture free from all forms of unlawful discrimination?</th>\n",
       "      <th>Workplace. Topic:Does your workplace promote and practice the principles of employment equity?</th>\n",
       "      <th>Workplace. Topic:Does your workplace value the diversity of its employees?</th>\n",
       "      <th>Workplace. Topic:Would you recommend the Institute as an employer to others?</th>\n",
       "      <th>Gender. What is your Gender?</th>\n",
       "      <th>CurrentAge. Current Age</th>\n",
       "      <th>Employment Type. Employment Type</th>\n",
       "      <th>Classification. Classification</th>\n",
       "      <th>LengthofServiceOverall. Overall Length of Service at Institute (in years)</th>\n",
       "      <th>LengthofServiceCurrent. Length of Service at current workplace (in years)</th>\n",
       "    </tr>\n",
       "  </thead>\n",
       "  <tbody>\n",
       "    <tr>\n",
       "      <th>0</th>\n",
       "      <td>6.341330e+17</td>\n",
       "      <td>Southern Queensland Institute of TAFE</td>\n",
       "      <td>Non-Delivery (corporate)</td>\n",
       "      <td>2010.0</td>\n",
       "      <td>Contract Expired</td>\n",
       "      <td>NaN</td>\n",
       "      <td>NaN</td>\n",
       "      <td>NaN</td>\n",
       "      <td>NaN</td>\n",
       "      <td>NaN</td>\n",
       "      <td>...</td>\n",
       "      <td>Yes</td>\n",
       "      <td>Yes</td>\n",
       "      <td>Yes</td>\n",
       "      <td>Yes</td>\n",
       "      <td>Female</td>\n",
       "      <td>26  30</td>\n",
       "      <td>Temporary Full-time</td>\n",
       "      <td>Administration (AO)</td>\n",
       "      <td>1-2</td>\n",
       "      <td>1-2</td>\n",
       "    </tr>\n",
       "    <tr>\n",
       "      <th>1</th>\n",
       "      <td>6.341337e+17</td>\n",
       "      <td>Mount Isa Institute of TAFE</td>\n",
       "      <td>Non-Delivery (corporate)</td>\n",
       "      <td>2010.0</td>\n",
       "      <td>Retirement</td>\n",
       "      <td>-</td>\n",
       "      <td>-</td>\n",
       "      <td>-</td>\n",
       "      <td>-</td>\n",
       "      <td>-</td>\n",
       "      <td>...</td>\n",
       "      <td>Yes</td>\n",
       "      <td>Yes</td>\n",
       "      <td>Yes</td>\n",
       "      <td>Yes</td>\n",
       "      <td>NaN</td>\n",
       "      <td>NaN</td>\n",
       "      <td>NaN</td>\n",
       "      <td>NaN</td>\n",
       "      <td>NaN</td>\n",
       "      <td>NaN</td>\n",
       "    </tr>\n",
       "    <tr>\n",
       "      <th>2</th>\n",
       "      <td>6.341388e+17</td>\n",
       "      <td>Mount Isa Institute of TAFE</td>\n",
       "      <td>Delivery (teaching)</td>\n",
       "      <td>2010.0</td>\n",
       "      <td>Retirement</td>\n",
       "      <td>-</td>\n",
       "      <td>-</td>\n",
       "      <td>-</td>\n",
       "      <td>-</td>\n",
       "      <td>-</td>\n",
       "      <td>...</td>\n",
       "      <td>Yes</td>\n",
       "      <td>Yes</td>\n",
       "      <td>Yes</td>\n",
       "      <td>Yes</td>\n",
       "      <td>NaN</td>\n",
       "      <td>NaN</td>\n",
       "      <td>NaN</td>\n",
       "      <td>NaN</td>\n",
       "      <td>NaN</td>\n",
       "      <td>NaN</td>\n",
       "    </tr>\n",
       "    <tr>\n",
       "      <th>3</th>\n",
       "      <td>6.341399e+17</td>\n",
       "      <td>Mount Isa Institute of TAFE</td>\n",
       "      <td>Non-Delivery (corporate)</td>\n",
       "      <td>2010.0</td>\n",
       "      <td>Resignation</td>\n",
       "      <td>-</td>\n",
       "      <td>-</td>\n",
       "      <td>-</td>\n",
       "      <td>-</td>\n",
       "      <td>-</td>\n",
       "      <td>...</td>\n",
       "      <td>Yes</td>\n",
       "      <td>Yes</td>\n",
       "      <td>Yes</td>\n",
       "      <td>Yes</td>\n",
       "      <td>NaN</td>\n",
       "      <td>NaN</td>\n",
       "      <td>NaN</td>\n",
       "      <td>NaN</td>\n",
       "      <td>NaN</td>\n",
       "      <td>NaN</td>\n",
       "    </tr>\n",
       "    <tr>\n",
       "      <th>4</th>\n",
       "      <td>6.341466e+17</td>\n",
       "      <td>Southern Queensland Institute of TAFE</td>\n",
       "      <td>Delivery (teaching)</td>\n",
       "      <td>2010.0</td>\n",
       "      <td>Resignation</td>\n",
       "      <td>-</td>\n",
       "      <td>Career Move - Private Sector</td>\n",
       "      <td>-</td>\n",
       "      <td>-</td>\n",
       "      <td>-</td>\n",
       "      <td>...</td>\n",
       "      <td>Yes</td>\n",
       "      <td>Yes</td>\n",
       "      <td>Yes</td>\n",
       "      <td>Yes</td>\n",
       "      <td>Male</td>\n",
       "      <td>41  45</td>\n",
       "      <td>Permanent Full-time</td>\n",
       "      <td>Teacher (including LVT)</td>\n",
       "      <td>3-4</td>\n",
       "      <td>3-4</td>\n",
       "    </tr>\n",
       "  </tbody>\n",
       "</table>\n",
       "<p>5 rows × 72 columns</p>\n",
       "</div>"
      ],
      "text/plain": [
       "      Record ID                              Institute  \\\n",
       "0  6.341330e+17  Southern Queensland Institute of TAFE   \n",
       "1  6.341337e+17            Mount Isa Institute of TAFE   \n",
       "2  6.341388e+17            Mount Isa Institute of TAFE   \n",
       "3  6.341399e+17            Mount Isa Institute of TAFE   \n",
       "4  6.341466e+17  Southern Queensland Institute of TAFE   \n",
       "\n",
       "                   WorkArea  CESSATION YEAR Reason for ceasing employment  \\\n",
       "0  Non-Delivery (corporate)          2010.0              Contract Expired   \n",
       "1  Non-Delivery (corporate)          2010.0                    Retirement   \n",
       "2       Delivery (teaching)          2010.0                    Retirement   \n",
       "3  Non-Delivery (corporate)          2010.0                   Resignation   \n",
       "4       Delivery (teaching)          2010.0                   Resignation   \n",
       "\n",
       "  Contributing Factors. Career Move - Public Sector   \\\n",
       "0                                                NaN   \n",
       "1                                                  -   \n",
       "2                                                  -   \n",
       "3                                                  -   \n",
       "4                                                  -   \n",
       "\n",
       "  Contributing Factors. Career Move - Private Sector   \\\n",
       "0                                                NaN    \n",
       "1                                                  -    \n",
       "2                                                  -    \n",
       "3                                                  -    \n",
       "4                       Career Move - Private Sector    \n",
       "\n",
       "  Contributing Factors. Career Move - Self-employment  \\\n",
       "0                                                NaN    \n",
       "1                                                  -    \n",
       "2                                                  -    \n",
       "3                                                  -    \n",
       "4                                                  -    \n",
       "\n",
       "  Contributing Factors. Ill Health Contributing Factors. Maternity/Family  \\\n",
       "0                              NaN                                    NaN   \n",
       "1                                -                                      -   \n",
       "2                                -                                      -   \n",
       "3                                -                                      -   \n",
       "4                                -                                      -   \n",
       "\n",
       "   ...  \\\n",
       "0  ...   \n",
       "1  ...   \n",
       "2  ...   \n",
       "3  ...   \n",
       "4  ...   \n",
       "\n",
       "  Workplace. Topic:Does your workplace promote a work culture free from all forms of unlawful discrimination?  \\\n",
       "0                                                Yes                                                            \n",
       "1                                                Yes                                                            \n",
       "2                                                Yes                                                            \n",
       "3                                                Yes                                                            \n",
       "4                                                Yes                                                            \n",
       "\n",
       "  Workplace. Topic:Does your workplace promote and practice the principles of employment equity?  \\\n",
       "0                                                Yes                                               \n",
       "1                                                Yes                                               \n",
       "2                                                Yes                                               \n",
       "3                                                Yes                                               \n",
       "4                                                Yes                                               \n",
       "\n",
       "  Workplace. Topic:Does your workplace value the diversity of its employees?  \\\n",
       "0                                                Yes                           \n",
       "1                                                Yes                           \n",
       "2                                                Yes                           \n",
       "3                                                Yes                           \n",
       "4                                                Yes                           \n",
       "\n",
       "  Workplace. Topic:Would you recommend the Institute as an employer to others?  \\\n",
       "0                                                Yes                             \n",
       "1                                                Yes                             \n",
       "2                                                Yes                             \n",
       "3                                                Yes                             \n",
       "4                                                Yes                             \n",
       "\n",
       "  Gender. What is your Gender? CurrentAge. Current Age  \\\n",
       "0                       Female                  26  30   \n",
       "1                          NaN                     NaN   \n",
       "2                          NaN                     NaN   \n",
       "3                          NaN                     NaN   \n",
       "4                         Male                  41  45   \n",
       "\n",
       "  Employment Type. Employment Type Classification. Classification  \\\n",
       "0              Temporary Full-time            Administration (AO)   \n",
       "1                              NaN                            NaN   \n",
       "2                              NaN                            NaN   \n",
       "3                              NaN                            NaN   \n",
       "4              Permanent Full-time        Teacher (including LVT)   \n",
       "\n",
       "  LengthofServiceOverall. Overall Length of Service at Institute (in years)  \\\n",
       "0                                                1-2                          \n",
       "1                                                NaN                          \n",
       "2                                                NaN                          \n",
       "3                                                NaN                          \n",
       "4                                                3-4                          \n",
       "\n",
       "  LengthofServiceCurrent. Length of Service at current workplace (in years)  \n",
       "0                                                1-2                         \n",
       "1                                                NaN                         \n",
       "2                                                NaN                         \n",
       "3                                                NaN                         \n",
       "4                                                3-4                         \n",
       "\n",
       "[5 rows x 72 columns]"
      ]
     },
     "execution_count": 6,
     "metadata": {},
     "output_type": "execute_result"
    }
   ],
   "source": [
    "tafe.head()"
   ]
  },
  {
   "cell_type": "markdown",
   "metadata": {},
   "source": [
    "### Notes"
   ]
  },
  {
   "cell_type": "markdown",
   "metadata": {},
   "source": [
    "Important variables:\n",
    "\n",
    "  * *Employment Length*\n",
    "    * DETE: `DETE Start Date` and `Cease Date` should be used to calculate a single 'employment_duration' variable\n",
    "    * TAFE: `LengthofServiceOverall. Overall Length of Service at Institute (in years)`. Also, the values given are a range, and they should be shortened to a single number in a separate column called 'employment_duration'.\n",
    "  * *Age*\n",
    "    * DETE: `Age`. This is given as a range and should be shortened to a single number.\n",
    "    * TAFE: `CurrentAge. Current Age`. Also given as a range.\n",
    "  * *Employment Cessation Reason*\n",
    "    * DETE: `SeparationType`. We'll care about all 3 \"Resigned\" values in there.\n",
    "    * TAFE: `Reason for ceasing employment`. We'll care only about the one \"Resigned\" category."
   ]
  },
  {
   "cell_type": "markdown",
   "metadata": {},
   "source": [
    "## Fix dates in DETE and calculate employment length"
   ]
  },
  {
   "cell_type": "markdown",
   "metadata": {},
   "source": [
    "Because we'll care about the length of time of employment, we'll need the dates to be in good order. We fixed two of the DETE columns by parsing dates and creating NA types when reading in the file, but `Role Start Date` still is reading as object type data. We'll need to look into that. The TAFE data has its important date column as an integer, which is okay unless we need to compare between the two data sets."
   ]
  },
  {
   "cell_type": "code",
   "execution_count": 7,
   "metadata": {},
   "outputs": [
    {
     "data": {
      "text/plain": [
       "2012    65\n",
       "2011    57\n",
       "2010    46\n",
       "2008    45\n",
       "2013    41\n",
       "2007    41\n",
       "2009    38\n",
       "2006    25\n",
       "2004    22\n",
       "2003    20\n",
       "2000    20\n",
       "2005    20\n",
       "1999    19\n",
       "1996    19\n",
       "1989    18\n",
       "1992    17\n",
       "2002    16\n",
       "1998    15\n",
       "2001    15\n",
       "1988    14\n",
       "1995    13\n",
       "1997    13\n",
       "1990    12\n",
       "1975    12\n",
       "1986    11\n",
       "1978     9\n",
       "1976     9\n",
       "1993     9\n",
       "1991     8\n",
       "1994     7\n",
       "1979     7\n",
       "1985     6\n",
       "1983     5\n",
       "1981     5\n",
       "1987     5\n",
       "1984     4\n",
       "1982     4\n",
       "1980     3\n",
       "1970     2\n",
       "1977     2\n",
       "1971     1\n",
       "1972     1\n",
       "1973     1\n",
       "200      1\n",
       "1974     1\n",
       "Name: Role Start Date, dtype: int64"
      ]
     },
     "execution_count": 7,
     "metadata": {},
     "output_type": "execute_result"
    }
   ],
   "source": [
    "dete['Role Start Date'].value_counts()"
   ]
  },
  {
   "cell_type": "markdown",
   "metadata": {},
   "source": [
    "There's a '200' value in there that doesn't make sense. Let's check that out."
   ]
  },
  {
   "cell_type": "code",
   "execution_count": 8,
   "metadata": {},
   "outputs": [
    {
     "data": {
      "text/html": [
       "<div>\n",
       "<style scoped>\n",
       "    .dataframe tbody tr th:only-of-type {\n",
       "        vertical-align: middle;\n",
       "    }\n",
       "\n",
       "    .dataframe tbody tr th {\n",
       "        vertical-align: top;\n",
       "    }\n",
       "\n",
       "    .dataframe thead th {\n",
       "        text-align: right;\n",
       "    }\n",
       "</style>\n",
       "<table border=\"1\" class=\"dataframe\">\n",
       "  <thead>\n",
       "    <tr style=\"text-align: right;\">\n",
       "      <th></th>\n",
       "      <th>ID</th>\n",
       "      <th>SeparationType</th>\n",
       "      <th>Cease Date</th>\n",
       "      <th>DETE Start Date</th>\n",
       "      <th>Role Start Date</th>\n",
       "      <th>Position</th>\n",
       "      <th>Classification</th>\n",
       "      <th>Region</th>\n",
       "      <th>Business Unit</th>\n",
       "      <th>Employment Status</th>\n",
       "      <th>...</th>\n",
       "      <th>Kept informed</th>\n",
       "      <th>Wellness programs</th>\n",
       "      <th>Health &amp; Safety</th>\n",
       "      <th>Gender</th>\n",
       "      <th>Age</th>\n",
       "      <th>Aboriginal</th>\n",
       "      <th>Torres Strait</th>\n",
       "      <th>South Sea</th>\n",
       "      <th>Disability</th>\n",
       "      <th>NESB</th>\n",
       "    </tr>\n",
       "  </thead>\n",
       "  <tbody>\n",
       "    <tr>\n",
       "      <th>390</th>\n",
       "      <td>391</td>\n",
       "      <td>Resignation-Other employer</td>\n",
       "      <td>2013-01-01</td>\n",
       "      <td>2000-01-01</td>\n",
       "      <td>200</td>\n",
       "      <td>Teacher</td>\n",
       "      <td>Secondary</td>\n",
       "      <td>Central Queensland</td>\n",
       "      <td>NaN</td>\n",
       "      <td>Permanent Full-time</td>\n",
       "      <td>...</td>\n",
       "      <td>N</td>\n",
       "      <td>N</td>\n",
       "      <td>N</td>\n",
       "      <td>Female</td>\n",
       "      <td>46-50</td>\n",
       "      <td>NaN</td>\n",
       "      <td>NaN</td>\n",
       "      <td>NaN</td>\n",
       "      <td>NaN</td>\n",
       "      <td>NaN</td>\n",
       "    </tr>\n",
       "  </tbody>\n",
       "</table>\n",
       "<p>1 rows × 56 columns</p>\n",
       "</div>"
      ],
      "text/plain": [
       "      ID              SeparationType Cease Date DETE Start Date  \\\n",
       "390  391  Resignation-Other employer 2013-01-01      2000-01-01   \n",
       "\n",
       "    Role Start Date Position Classification              Region Business Unit  \\\n",
       "390             200  Teacher      Secondary  Central Queensland           NaN   \n",
       "\n",
       "       Employment Status  ...  Kept informed  Wellness programs  \\\n",
       "390  Permanent Full-time  ...              N                  N   \n",
       "\n",
       "     Health & Safety  Gender    Age  Aboriginal  Torres Strait  South Sea  \\\n",
       "390                N  Female  46-50         NaN            NaN        NaN   \n",
       "\n",
       "     Disability  NESB  \n",
       "390         NaN   NaN  \n",
       "\n",
       "[1 rows x 56 columns]"
      ]
     },
     "execution_count": 8,
     "metadata": {},
     "output_type": "execute_result"
    }
   ],
   "source": [
    "dete.loc[dete['Role Start Date']=='200',:]"
   ]
  },
  {
   "cell_type": "markdown",
   "metadata": {},
   "source": [
    "Only one row. Not clear whether it should be same as DETE column, as many are not, so drop it and reformat column as datetime."
   ]
  },
  {
   "cell_type": "code",
   "execution_count": 9,
   "metadata": {},
   "outputs": [],
   "source": [
    "dete.drop(index=390, inplace=True)"
   ]
  },
  {
   "cell_type": "code",
   "execution_count": 10,
   "metadata": {},
   "outputs": [
    {
     "data": {
      "text/html": [
       "<div>\n",
       "<style scoped>\n",
       "    .dataframe tbody tr th:only-of-type {\n",
       "        vertical-align: middle;\n",
       "    }\n",
       "\n",
       "    .dataframe tbody tr th {\n",
       "        vertical-align: top;\n",
       "    }\n",
       "\n",
       "    .dataframe thead th {\n",
       "        text-align: right;\n",
       "    }\n",
       "</style>\n",
       "<table border=\"1\" class=\"dataframe\">\n",
       "  <thead>\n",
       "    <tr style=\"text-align: right;\">\n",
       "      <th></th>\n",
       "      <th>ID</th>\n",
       "      <th>SeparationType</th>\n",
       "      <th>Cease Date</th>\n",
       "      <th>DETE Start Date</th>\n",
       "      <th>Role Start Date</th>\n",
       "      <th>Position</th>\n",
       "      <th>Classification</th>\n",
       "      <th>Region</th>\n",
       "      <th>Business Unit</th>\n",
       "      <th>Employment Status</th>\n",
       "      <th>...</th>\n",
       "      <th>Kept informed</th>\n",
       "      <th>Wellness programs</th>\n",
       "      <th>Health &amp; Safety</th>\n",
       "      <th>Gender</th>\n",
       "      <th>Age</th>\n",
       "      <th>Aboriginal</th>\n",
       "      <th>Torres Strait</th>\n",
       "      <th>South Sea</th>\n",
       "      <th>Disability</th>\n",
       "      <th>NESB</th>\n",
       "    </tr>\n",
       "  </thead>\n",
       "  <tbody>\n",
       "  </tbody>\n",
       "</table>\n",
       "<p>0 rows × 56 columns</p>\n",
       "</div>"
      ],
      "text/plain": [
       "Empty DataFrame\n",
       "Columns: [ID, SeparationType, Cease Date, DETE Start Date, Role Start Date, Position, Classification, Region, Business Unit, Employment Status, Career move to public sector, Career move to private sector, Interpersonal conflicts, Job dissatisfaction, Dissatisfaction with the department, Physical work environment, Lack of recognition, Lack of job security, Work location, Employment conditions, Maternity/family, Relocation, Study/Travel, Ill Health, Traumatic incident, Work life balance, Workload, None of the above, Professional Development, Opportunities for promotion, Staff morale, Workplace issue, Physical environment, Worklife balance, Stress and pressure support, Performance of supervisor, Peer support, Initiative, Skills, Coach, Career Aspirations, Feedback, Further PD, Communication, My say, Information, Kept informed, Wellness programs, Health & Safety, Gender, Age, Aboriginal, Torres Strait, South Sea, Disability, NESB]\n",
       "Index: []\n",
       "\n",
       "[0 rows x 56 columns]"
      ]
     },
     "execution_count": 10,
     "metadata": {},
     "output_type": "execute_result"
    }
   ],
   "source": [
    "dete.loc[dete['Role Start Date']=='200',:]"
   ]
  },
  {
   "cell_type": "code",
   "execution_count": 11,
   "metadata": {},
   "outputs": [],
   "source": [
    "dete['Role Start Date'] = pd.to_datetime(dete['Role Start Date'])"
   ]
  },
  {
   "cell_type": "markdown",
   "metadata": {},
   "source": [
    "## Check values range of employment start and cessation"
   ]
  },
  {
   "cell_type": "code",
   "execution_count": 12,
   "metadata": {},
   "outputs": [
    {
     "data": {
      "text/plain": [
       "1970-01-01     2\n",
       "1971-01-01     1\n",
       "1972-01-01     1\n",
       "1973-01-01     1\n",
       "1974-01-01     1\n",
       "1975-01-01    12\n",
       "1976-01-01     9\n",
       "1977-01-01     2\n",
       "1978-01-01     9\n",
       "1979-01-01     7\n",
       "1980-01-01     3\n",
       "1981-01-01     5\n",
       "1982-01-01     4\n",
       "1983-01-01     5\n",
       "1984-01-01     4\n",
       "1985-01-01     6\n",
       "1986-01-01    11\n",
       "1987-01-01     5\n",
       "1988-01-01    14\n",
       "1989-01-01    18\n",
       "1990-01-01    12\n",
       "1991-01-01     8\n",
       "1992-01-01    17\n",
       "1993-01-01     9\n",
       "1994-01-01     7\n",
       "1995-01-01    13\n",
       "1996-01-01    19\n",
       "1997-01-01    13\n",
       "1998-01-01    15\n",
       "1999-01-01    19\n",
       "2000-01-01    20\n",
       "2001-01-01    15\n",
       "2002-01-01    16\n",
       "2003-01-01    20\n",
       "2004-01-01    22\n",
       "2005-01-01    20\n",
       "2006-01-01    25\n",
       "2007-01-01    41\n",
       "2008-01-01    45\n",
       "2009-01-01    38\n",
       "2010-01-01    46\n",
       "2011-01-01    57\n",
       "2012-01-01    65\n",
       "2013-01-01    41\n",
       "Name: Role Start Date, dtype: int64"
      ]
     },
     "execution_count": 12,
     "metadata": {},
     "output_type": "execute_result"
    }
   ],
   "source": [
    "dete['Role Start Date'].value_counts().sort_index()"
   ]
  },
  {
   "cell_type": "code",
   "execution_count": 13,
   "metadata": {},
   "outputs": [
    {
     "data": {
      "text/plain": [
       "2006-07-01      1\n",
       "2010-01-01      1\n",
       "2010-09-01      1\n",
       "2012-01-01    344\n",
       "2012-05-01      6\n",
       "2012-07-01      1\n",
       "2012-08-01      2\n",
       "2012-11-01      1\n",
       "2013-01-01    199\n",
       "2013-04-01      2\n",
       "2013-05-01      7\n",
       "2013-06-01     27\n",
       "2013-07-01     22\n",
       "2013-08-01     12\n",
       "2013-09-01     34\n",
       "2013-10-01     20\n",
       "2013-11-01     16\n",
       "2013-12-01     40\n",
       "2014-01-01     44\n",
       "2014-02-01      2\n",
       "2014-04-01      2\n",
       "2014-07-01      2\n",
       "2014-09-01      1\n",
       "Name: Cease Date, dtype: int64"
      ]
     },
     "execution_count": 13,
     "metadata": {},
     "output_type": "execute_result"
    }
   ],
   "source": [
    "dete['Cease Date'].value_counts().sort_index()"
   ]
  },
  {
   "cell_type": "markdown",
   "metadata": {},
   "source": [
    "DETE dates look reasonable. No dates after the current date, no really old dates."
   ]
  },
  {
   "cell_type": "code",
   "execution_count": 14,
   "metadata": {},
   "outputs": [
    {
     "data": {
      "text/plain": [
       "2009.0      4\n",
       "2010.0    103\n",
       "2011.0    268\n",
       "2012.0    235\n",
       "2013.0     85\n",
       "Name: CESSATION YEAR, dtype: int64"
      ]
     },
     "execution_count": 14,
     "metadata": {},
     "output_type": "execute_result"
    }
   ],
   "source": [
    "tafe['CESSATION YEAR'].value_counts().sort_index()"
   ]
  },
  {
   "cell_type": "markdown",
   "metadata": {},
   "source": [
    "These dates also look reasonable."
   ]
  },
  {
   "cell_type": "markdown",
   "metadata": {},
   "source": [
    "## TAFE: Create new employment duration column"
   ]
  },
  {
   "cell_type": "code",
   "execution_count": 15,
   "metadata": {},
   "outputs": [
    {
     "data": {
      "text/plain": [
       "Less than 1 year      147\n",
       "NaN                   106\n",
       "1-2                   102\n",
       "3-4                    96\n",
       "11-20                  89\n",
       "More than 20 years     71\n",
       "5-6                    48\n",
       "7-10                   43\n",
       "Name: LengthofServiceOverall. Overall Length of Service at Institute (in years), dtype: int64"
      ]
     },
     "execution_count": 15,
     "metadata": {},
     "output_type": "execute_result"
    }
   ],
   "source": [
    "tafe['LengthofServiceOverall. Overall Length of Service at Institute (in years)'].value_counts(dropna=False)"
   ]
  },
  {
   "cell_type": "code",
   "execution_count": 16,
   "metadata": {},
   "outputs": [
    {
     "data": {
      "text/plain": [
       "0     147\n",
       "1     102\n",
       "3      96\n",
       "11     89\n",
       "20     71\n",
       "5      48\n",
       "7      43\n",
       "Name: employment_duration_cat, dtype: int64"
      ]
     },
     "execution_count": 16,
     "metadata": {},
     "output_type": "execute_result"
    }
   ],
   "source": [
    "tafe['employment_duration_cat'] = tafe['LengthofServiceOverall. Overall Length of Service at Institute (in years)']\n",
    "tafe['employment_duration_cat'] = tafe['employment_duration_cat'].str.replace('Less than 1 year', '0-1').str.replace('More than 20 years', '20-30').str.split('-')\n",
    "tafe.loc[tafe['employment_duration_cat'].notnull(), 'employment_duration_cat'] = tafe.loc[tafe['employment_duration_cat'].notnull(), 'employment_duration_cat'].apply(lambda row: row[0])\n",
    "tafe.loc[tafe['employment_duration_cat'].notnull(), 'employment_duration_cat'] = tafe.loc[tafe['employment_duration_cat'].notnull(), 'employment_duration_cat'].astype('int')\n",
    "tafe['employment_duration_cat'].value_counts()"
   ]
  },
  {
   "cell_type": "markdown",
   "metadata": {},
   "source": [
    "We'll base our analysis on this article, which makes the argument that understanding employee's needs according to career stage instead of age is more effective.\n",
    "\n",
    "We'll use the slightly modified definitions below:\n",
    "\n",
    "    New: Less than 3 years at a company\n",
    "    Experienced: 3-6 years at a company\n",
    "    Established: 7-10 years at a company\n",
    "    Veteran: 11 or more years at a company\n",
    "\n",
    "Let's categorize the values in the institute_service column using the definitions above."
   ]
  },
  {
   "cell_type": "code",
   "execution_count": 17,
   "metadata": {},
   "outputs": [],
   "source": [
    "def career_stage(yr):\n",
    "    if yr < 3:\n",
    "        return 'New'\n",
    "    elif yr < 7:\n",
    "        return 'Experienced'\n",
    "    elif yr < 11:\n",
    "        return 'Established'\n",
    "    elif yr >= 11:\n",
    "        return 'Veteran'\n",
    "    else:\n",
    "        return np.nan"
   ]
  },
  {
   "cell_type": "code",
   "execution_count": 18,
   "metadata": {},
   "outputs": [],
   "source": [
    "tafe.loc[tafe['employment_duration_cat'].notnull(), 'employment_duration_cat'] = tafe.loc[tafe['employment_duration_cat'].notnull(), 'employment_duration_cat'].apply(career_stage)"
   ]
  },
  {
   "cell_type": "code",
   "execution_count": 19,
   "metadata": {},
   "outputs": [
    {
     "data": {
      "text/plain": [
       "New            249\n",
       "Veteran        160\n",
       "Experienced    144\n",
       "NaN            106\n",
       "Established     43\n",
       "Name: employment_duration_cat, dtype: int64"
      ]
     },
     "execution_count": 19,
     "metadata": {},
     "output_type": "execute_result"
    }
   ],
   "source": [
    "tafe['employment_duration_cat'].value_counts(dropna=False)"
   ]
  },
  {
   "cell_type": "markdown",
   "metadata": {},
   "source": [
    "## DETE: Create new employment duration column"
   ]
  },
  {
   "cell_type": "markdown",
   "metadata": {},
   "source": [
    "Since the TAFE duration is in years, let's make the DETE in years too. We should also make a categorical column to match the TAFE data set since we'll eventually be combining the two data sets."
   ]
  },
  {
   "cell_type": "code",
   "execution_count": 20,
   "metadata": {},
   "outputs": [
    {
     "data": {
      "text/plain": [
       "4.002740     26\n",
       "1.000000     23\n",
       "5.002740     21\n",
       "0.000000     16\n",
       "6.002740     13\n",
       "             ..\n",
       "16.506849     1\n",
       "33.520548     1\n",
       "3.750685      1\n",
       "44.443836     1\n",
       "12.673973     1\n",
       "Name: employment_duration, Length: 216, dtype: int64"
      ]
     },
     "execution_count": 20,
     "metadata": {},
     "output_type": "execute_result"
    }
   ],
   "source": [
    "dete['employment_duration'] = (dete['Cease Date'] - dete['DETE Start Date'])\n",
    "dete['employment_duration'] = dete['employment_duration'].apply(lambda row: row.total_seconds()/(60*60*24*365))\n",
    "dete['employment_duration'].value_counts().sort_values(ascending=False)"
   ]
  },
  {
   "cell_type": "code",
   "execution_count": 21,
   "metadata": {},
   "outputs": [
    {
     "data": {
      "text/plain": [
       "Veteran        444\n",
       "Experienced    120\n",
       "NaN            103\n",
       "New             90\n",
       "Established     64\n",
       "Name: employment_duration_cat, dtype: int64"
      ]
     },
     "execution_count": 21,
     "metadata": {},
     "output_type": "execute_result"
    }
   ],
   "source": [
    "dete['employment_duration_cat'] = dete['employment_duration'].apply(career_stage)\n",
    "dete['employment_duration_cat'].value_counts(dropna=False)"
   ]
  },
  {
   "cell_type": "markdown",
   "metadata": {},
   "source": [
    "## Investigate employment cessation values"
   ]
  },
  {
   "cell_type": "code",
   "execution_count": 22,
   "metadata": {},
   "outputs": [
    {
     "data": {
      "text/plain": [
       "Age Retirement                          285\n",
       "Resignation-Other reasons               150\n",
       "Resignation-Other employer               90\n",
       "Resignation-Move overseas/interstate     70\n",
       "Voluntary Early Retirement (VER)         67\n",
       "Ill Health Retirement                    61\n",
       "Other                                    49\n",
       "Contract Expired                         34\n",
       "Termination                              15\n",
       "Name: SeparationType, dtype: int64"
      ]
     },
     "execution_count": 22,
     "metadata": {},
     "output_type": "execute_result"
    }
   ],
   "source": [
    "dete['SeparationType'].value_counts()"
   ]
  },
  {
   "cell_type": "code",
   "execution_count": 23,
   "metadata": {},
   "outputs": [
    {
     "data": {
      "text/plain": [
       "Resignation                 340\n",
       "Contract Expired            127\n",
       "Retrenchment/ Redundancy    104\n",
       "Retirement                   82\n",
       "Transfer                     25\n",
       "Termination                  23\n",
       "Name: Reason for ceasing employment, dtype: int64"
      ]
     },
     "execution_count": 23,
     "metadata": {},
     "output_type": "execute_result"
    }
   ],
   "source": [
    "tafe['Reason for ceasing employment'].value_counts()"
   ]
  },
  {
   "cell_type": "markdown",
   "metadata": {},
   "source": [
    "## Adjust age columns"
   ]
  },
  {
   "cell_type": "markdown",
   "metadata": {},
   "source": [
    "### DETE"
   ]
  },
  {
   "cell_type": "code",
   "execution_count": 24,
   "metadata": {},
   "outputs": [
    {
     "data": {
      "text/plain": [
       "20 or younger      1\n",
       "31-35             39\n",
       "21-25             40\n",
       "36-40             51\n",
       "26-30             57\n",
       "41-45             61\n",
       "46-50             62\n",
       "51-55            103\n",
       "56-60            174\n",
       "61 or older      222\n",
       "Name: Age, dtype: int64"
      ]
     },
     "execution_count": 24,
     "metadata": {},
     "output_type": "execute_result"
    }
   ],
   "source": [
    "dete['Age'].value_counts().sort_values()"
   ]
  },
  {
   "cell_type": "code",
   "execution_count": 25,
   "metadata": {},
   "outputs": [
    {
     "data": {
      "text/plain": [
       "20      1\n",
       "31     39\n",
       "21     40\n",
       "36     51\n",
       "26     57\n",
       "41     61\n",
       "46     62\n",
       "51    103\n",
       "56    174\n",
       "61    222\n",
       "Name: Age_int, dtype: int64"
      ]
     },
     "execution_count": 25,
     "metadata": {},
     "output_type": "execute_result"
    }
   ],
   "source": [
    "dete['Age_int'] = dete['Age'].str.extract(r\"(^[0-9]+)\")\n",
    "dete['Age_int'].value_counts().sort_values()"
   ]
  },
  {
   "cell_type": "markdown",
   "metadata": {},
   "source": [
    "### TAFE"
   ]
  },
  {
   "cell_type": "code",
   "execution_count": 26,
   "metadata": {},
   "outputs": [
    {
     "data": {
      "text/plain": [
       "20 or younger     16\n",
       "21  25            44\n",
       "26  30            50\n",
       "36  40            51\n",
       "31  35            52\n",
       "46  50            59\n",
       "41  45            80\n",
       "51-55             82\n",
       "56 or older      162\n",
       "Name: CurrentAge. Current Age, dtype: int64"
      ]
     },
     "execution_count": 26,
     "metadata": {},
     "output_type": "execute_result"
    }
   ],
   "source": [
    "tafe['CurrentAge. Current Age'].value_counts().sort_values()"
   ]
  },
  {
   "cell_type": "code",
   "execution_count": 27,
   "metadata": {},
   "outputs": [
    {
     "data": {
      "text/plain": [
       "20     16\n",
       "21     44\n",
       "26     50\n",
       "36     51\n",
       "31     52\n",
       "46     59\n",
       "41     80\n",
       "51     82\n",
       "56    162\n",
       "Name: Age_int, dtype: int64"
      ]
     },
     "execution_count": 27,
     "metadata": {},
     "output_type": "execute_result"
    }
   ],
   "source": [
    "tafe['Age_int'] = tafe['CurrentAge. Current Age'].str.extract(r\"(^[0-9]+)\")\n",
    "tafe['Age_int'].value_counts().sort_values()"
   ]
  },
  {
   "cell_type": "markdown",
   "metadata": {},
   "source": [
    "## Delete unnecessary columns"
   ]
  },
  {
   "cell_type": "code",
   "execution_count": 28,
   "metadata": {},
   "outputs": [
    {
     "data": {
      "text/plain": [
       "Index(['Professional Development', 'Opportunities for promotion',\n",
       "       'Staff morale', 'Workplace issue', 'Physical environment',\n",
       "       'Worklife balance', 'Stress and pressure support',\n",
       "       'Performance of supervisor', 'Peer support', 'Initiative', 'Skills',\n",
       "       'Coach', 'Career Aspirations', 'Feedback', 'Further PD',\n",
       "       'Communication', 'My say', 'Information', 'Kept informed',\n",
       "       'Wellness programs', 'Health & Safety'],\n",
       "      dtype='object')"
      ]
     },
     "execution_count": 28,
     "metadata": {},
     "output_type": "execute_result"
    }
   ],
   "source": [
    "dete_drop_cols = dete.columns[28:49]\n",
    "dete_drop_cols"
   ]
  },
  {
   "cell_type": "code",
   "execution_count": 29,
   "metadata": {},
   "outputs": [
    {
     "name": "stdout",
     "output_type": "stream",
     "text": [
      "<class 'pandas.core.frame.DataFrame'>\n",
      "Int64Index: 821 entries, 0 to 821\n",
      "Data columns (total 59 columns):\n",
      " #   Column                               Non-Null Count  Dtype         \n",
      "---  ------                               --------------  -----         \n",
      " 0   ID                                   821 non-null    int64         \n",
      " 1   SeparationType                       821 non-null    object        \n",
      " 2   Cease Date                           787 non-null    datetime64[ns]\n",
      " 3   DETE Start Date                      748 non-null    datetime64[ns]\n",
      " 4   Role Start Date                      723 non-null    datetime64[ns]\n",
      " 5   Position                             816 non-null    object        \n",
      " 6   Classification                       454 non-null    object        \n",
      " 7   Region                               716 non-null    object        \n",
      " 8   Business Unit                        126 non-null    object        \n",
      " 9   Employment Status                    816 non-null    object        \n",
      " 10  Career move to public sector         821 non-null    bool          \n",
      " 11  Career move to private sector        821 non-null    bool          \n",
      " 12  Interpersonal conflicts              821 non-null    bool          \n",
      " 13  Job dissatisfaction                  821 non-null    bool          \n",
      " 14  Dissatisfaction with the department  821 non-null    bool          \n",
      " 15  Physical work environment            821 non-null    bool          \n",
      " 16  Lack of recognition                  821 non-null    bool          \n",
      " 17  Lack of job security                 821 non-null    bool          \n",
      " 18  Work location                        821 non-null    bool          \n",
      " 19  Employment conditions                821 non-null    bool          \n",
      " 20  Maternity/family                     821 non-null    bool          \n",
      " 21  Relocation                           821 non-null    bool          \n",
      " 22  Study/Travel                         821 non-null    bool          \n",
      " 23  Ill Health                           821 non-null    bool          \n",
      " 24  Traumatic incident                   821 non-null    bool          \n",
      " 25  Work life balance                    821 non-null    bool          \n",
      " 26  Workload                             821 non-null    bool          \n",
      " 27  None of the above                    821 non-null    bool          \n",
      " 28  Professional Development             807 non-null    object        \n",
      " 29  Opportunities for promotion          734 non-null    object        \n",
      " 30  Staff morale                         815 non-null    object        \n",
      " 31  Workplace issue                      787 non-null    object        \n",
      " 32  Physical environment                 816 non-null    object        \n",
      " 33  Worklife balance                     814 non-null    object        \n",
      " 34  Stress and pressure support          809 non-null    object        \n",
      " 35  Performance of supervisor            812 non-null    object        \n",
      " 36  Peer support                         811 non-null    object        \n",
      " 37  Initiative                           812 non-null    object        \n",
      " 38  Skills                               810 non-null    object        \n",
      " 39  Coach                                766 non-null    object        \n",
      " 40  Career Aspirations                   745 non-null    object        \n",
      " 41  Feedback                             791 non-null    object        \n",
      " 42  Further PD                           767 non-null    object        \n",
      " 43  Communication                        813 non-null    object        \n",
      " 44  My say                               811 non-null    object        \n",
      " 45  Information                          815 non-null    object        \n",
      " 46  Kept informed                        812 non-null    object        \n",
      " 47  Wellness programs                    765 non-null    object        \n",
      " 48  Health & Safety                      792 non-null    object        \n",
      " 49  Gender                               797 non-null    object        \n",
      " 50  Age                                  810 non-null    object        \n",
      " 51  Aboriginal                           16 non-null     object        \n",
      " 52  Torres Strait                        3 non-null      object        \n",
      " 53  South Sea                            7 non-null      object        \n",
      " 54  Disability                           23 non-null     object        \n",
      " 55  NESB                                 32 non-null     object        \n",
      " 56  employment_duration                  718 non-null    float64       \n",
      " 57  employment_duration_cat              718 non-null    object        \n",
      " 58  Age_int                              810 non-null    object        \n",
      "dtypes: bool(18), datetime64[ns](3), float64(1), int64(1), object(36)\n",
      "memory usage: 283.8+ KB\n"
     ]
    }
   ],
   "source": [
    "dete_updated = dete.drop(columns=dete_drop_cols, axis=1)\n",
    "dete.info()"
   ]
  },
  {
   "cell_type": "code",
   "execution_count": 30,
   "metadata": {},
   "outputs": [
    {
     "data": {
      "text/plain": [
       "Index(['Main Factor. Which of these was the main factor for leaving?',\n",
       "       'InstituteViews. Topic:1. I feel the senior leadership had a clear vision and direction',\n",
       "       'InstituteViews. Topic:2. I was given access to skills training to help me do my job better',\n",
       "       'InstituteViews. Topic:3. I was given adequate opportunities for personal development',\n",
       "       'InstituteViews. Topic:4. I was given adequate opportunities for promotion within %Institute]Q25LBL%',\n",
       "       'InstituteViews. Topic:5. I felt the salary for the job was right for the responsibilities I had',\n",
       "       'InstituteViews. Topic:6. The organisation recognised when staff did good work',\n",
       "       'InstituteViews. Topic:7. Management was generally supportive of me',\n",
       "       'InstituteViews. Topic:8. Management was generally supportive of my team',\n",
       "       'InstituteViews. Topic:9. I was kept informed of the changes in the organisation which would affect me',\n",
       "       'InstituteViews. Topic:10. Staff morale was positive within the Institute',\n",
       "       'InstituteViews. Topic:11. If I had a workplace issue it was dealt with quickly',\n",
       "       'InstituteViews. Topic:12. If I had a workplace issue it was dealt with efficiently',\n",
       "       'InstituteViews. Topic:13. If I had a workplace issue it was dealt with discreetly',\n",
       "       'WorkUnitViews. Topic:14. I was satisfied with the quality of the management and supervision within my work unit',\n",
       "       'WorkUnitViews. Topic:15. I worked well with my colleagues',\n",
       "       'WorkUnitViews. Topic:16. My job was challenging and interesting',\n",
       "       'WorkUnitViews. Topic:17. I was encouraged to use my initiative in the course of my work',\n",
       "       'WorkUnitViews. Topic:18. I had sufficient contact with other people in my job',\n",
       "       'WorkUnitViews. Topic:19. I was given adequate support and co-operation by my peers to enable me to do my job',\n",
       "       'WorkUnitViews. Topic:20. I was able to use the full range of my skills in my job',\n",
       "       'WorkUnitViews. Topic:21. I was able to use the full range of my abilities in my job. ; Category:Level of Agreement; Question:YOUR VIEWS ABOUT YOUR WORK UNIT]',\n",
       "       'WorkUnitViews. Topic:22. I was able to use the full range of my knowledge in my job',\n",
       "       'WorkUnitViews. Topic:23. My job provided sufficient variety',\n",
       "       'WorkUnitViews. Topic:24. I was able to cope with the level of stress and pressure in my job',\n",
       "       'WorkUnitViews. Topic:25. My job allowed me to balance the demands of work and family to my satisfaction',\n",
       "       'WorkUnitViews. Topic:26. My supervisor gave me adequate personal recognition and feedback on my performance',\n",
       "       'WorkUnitViews. Topic:27. My working environment was satisfactory e.g. sufficient space, good lighting, suitable seating and working area',\n",
       "       'WorkUnitViews. Topic:28. I was given the opportunity to mentor and coach others in order for me to pass on my skills and knowledge prior to my cessation date',\n",
       "       'WorkUnitViews. Topic:29. There was adequate communication between staff in my unit',\n",
       "       'WorkUnitViews. Topic:30. Staff morale was positive within my work unit',\n",
       "       'Induction. Did you undertake Workplace Induction?',\n",
       "       'InductionInfo. Topic:Did you undertake a Corporate Induction?',\n",
       "       'InductionInfo. Topic:Did you undertake a Institute Induction?',\n",
       "       'InductionInfo. Topic: Did you undertake Team Induction?',\n",
       "       'InductionInfo. Face to Face Topic:Did you undertake a Corporate Induction; Category:How it was conducted?',\n",
       "       'InductionInfo. On-line Topic:Did you undertake a Corporate Induction; Category:How it was conducted?',\n",
       "       'InductionInfo. Induction Manual Topic:Did you undertake a Corporate Induction?',\n",
       "       'InductionInfo. Face to Face Topic:Did you undertake a Institute Induction?',\n",
       "       'InductionInfo. On-line Topic:Did you undertake a Institute Induction?',\n",
       "       'InductionInfo. Induction Manual Topic:Did you undertake a Institute Induction?',\n",
       "       'InductionInfo. Face to Face Topic: Did you undertake Team Induction; Category?',\n",
       "       'InductionInfo. On-line Topic: Did you undertake Team Induction?process you undertook and how it was conducted.]',\n",
       "       'InductionInfo. Induction Manual Topic: Did you undertake Team Induction?',\n",
       "       'Workplace. Topic:Did you and your Manager develop a Performance and Professional Development Plan (PPDP)?',\n",
       "       'Workplace. Topic:Does your workplace promote a work culture free from all forms of unlawful discrimination?',\n",
       "       'Workplace. Topic:Does your workplace promote and practice the principles of employment equity?',\n",
       "       'Workplace. Topic:Does your workplace value the diversity of its employees?',\n",
       "       'Workplace. Topic:Would you recommend the Institute as an employer to others?'],\n",
       "      dtype='object')"
      ]
     },
     "execution_count": 30,
     "metadata": {},
     "output_type": "execute_result"
    }
   ],
   "source": [
    "tafe_drop_cols = tafe.columns[17:66]\n",
    "tafe_drop_cols"
   ]
  },
  {
   "cell_type": "code",
   "execution_count": 31,
   "metadata": {},
   "outputs": [
    {
     "name": "stdout",
     "output_type": "stream",
     "text": [
      "<class 'pandas.core.frame.DataFrame'>\n",
      "RangeIndex: 702 entries, 0 to 701\n",
      "Data columns (total 25 columns):\n",
      " #   Column                                                                     Non-Null Count  Dtype  \n",
      "---  ------                                                                     --------------  -----  \n",
      " 0   Record ID                                                                  702 non-null    float64\n",
      " 1   Institute                                                                  702 non-null    object \n",
      " 2   WorkArea                                                                   702 non-null    object \n",
      " 3   CESSATION YEAR                                                             695 non-null    float64\n",
      " 4   Reason for ceasing employment                                              701 non-null    object \n",
      " 5   Contributing Factors. Career Move - Public Sector                          437 non-null    object \n",
      " 6   Contributing Factors. Career Move - Private Sector                         437 non-null    object \n",
      " 7   Contributing Factors. Career Move - Self-employment                        437 non-null    object \n",
      " 8   Contributing Factors. Ill Health                                           437 non-null    object \n",
      " 9   Contributing Factors. Maternity/Family                                     437 non-null    object \n",
      " 10  Contributing Factors. Dissatisfaction                                      437 non-null    object \n",
      " 11  Contributing Factors. Job Dissatisfaction                                  437 non-null    object \n",
      " 12  Contributing Factors. Interpersonal Conflict                               437 non-null    object \n",
      " 13  Contributing Factors. Study                                                437 non-null    object \n",
      " 14  Contributing Factors. Travel                                               437 non-null    object \n",
      " 15  Contributing Factors. Other                                                437 non-null    object \n",
      " 16  Contributing Factors. NONE                                                 437 non-null    object \n",
      " 17  Gender. What is your Gender?                                               596 non-null    object \n",
      " 18  CurrentAge. Current Age                                                    596 non-null    object \n",
      " 19  Employment Type. Employment Type                                           596 non-null    object \n",
      " 20  Classification. Classification                                             596 non-null    object \n",
      " 21  LengthofServiceOverall. Overall Length of Service at Institute (in years)  596 non-null    object \n",
      " 22  LengthofServiceCurrent. Length of Service at current workplace (in years)  596 non-null    object \n",
      " 23  employment_duration_cat                                                    596 non-null    object \n",
      " 24  Age_int                                                                    596 non-null    object \n",
      "dtypes: float64(2), object(23)\n",
      "memory usage: 137.2+ KB\n"
     ]
    }
   ],
   "source": [
    "tafe_updated = tafe.drop(columns=tafe_drop_cols, axis=1)\n",
    "tafe_updated.info()"
   ]
  },
  {
   "cell_type": "markdown",
   "metadata": {},
   "source": [
    "## Reformat column names for df combination"
   ]
  },
  {
   "cell_type": "code",
   "execution_count": 32,
   "metadata": {},
   "outputs": [
    {
     "name": "stdout",
     "output_type": "stream",
     "text": [
      "Index(['id', 'separationtype', 'cease_date', 'dete_start_date',\n",
      "       'role_start_date', 'position', 'classification', 'region',\n",
      "       'business_unit', 'employment_status', 'career_move_to_public_sector',\n",
      "       'career_move_to_private_sector', 'interpersonal_conflicts',\n",
      "       'job_dissatisfaction', 'dissatisfaction_with_the_department',\n",
      "       'physical_work_environment', 'lack_of_recognition',\n",
      "       'lack_of_job_security', 'work_location', 'employment_conditions',\n",
      "       'maternity/family', 'relocation', 'study/travel', 'ill_health',\n",
      "       'traumatic_incident', 'work_life_balance', 'workload',\n",
      "       'none_of_the_above', 'gender', 'age', 'aboriginal', 'torres_strait',\n",
      "       'south_sea', 'disability', 'nesb', 'employment_duration',\n",
      "       'employment_duration_cat', 'age_int'],\n",
      "      dtype='object')\n"
     ]
    }
   ],
   "source": [
    "dete_updated.columns = dete_updated.columns.str.lower().str.strip().str.replace(' ', '_')\n",
    "print(dete_updated.columns)\n",
    "tafe_updated.columns = tafe_updated.columns.str.lower().str.strip().str.replace(' ', '_')"
   ]
  },
  {
   "cell_type": "code",
   "execution_count": 33,
   "metadata": {},
   "outputs": [
    {
     "name": "stdout",
     "output_type": "stream",
     "text": [
      "Index(['id', 'institute', 'workarea', 'cease_date', 'separationtype',\n",
      "       'contributing_factors._career_move_-_public_sector',\n",
      "       'contributing_factors._career_move_-_private_sector',\n",
      "       'contributing_factors._career_move_-_self-employment',\n",
      "       'contributing_factors._ill_health',\n",
      "       'contributing_factors._maternity/family',\n",
      "       'contributing_factors._dissatisfaction',\n",
      "       'contributing_factors._job_dissatisfaction',\n",
      "       'contributing_factors._interpersonal_conflict',\n",
      "       'contributing_factors._study', 'contributing_factors._travel',\n",
      "       'contributing_factors._other', 'contributing_factors._none', 'gender',\n",
      "       'age', 'employment_status', 'position', 'institute_service',\n",
      "       'role_service', 'employment_duration_cat', 'age_int'],\n",
      "      dtype='object')\n"
     ]
    }
   ],
   "source": [
    "tafe_updated.rename({'record_id': 'id', 'cessation_year': 'cease_date', 'reason_for_ceasing_employment': 'separationtype', \n",
    "                     'gender._what_is_your_gender?': 'gender', 'currentage._current_age': 'age',\n",
    "                    'employment_type._employment_type': 'employment_status', 'classification._classification': 'position',\n",
    "                    'lengthofserviceoverall._overall_length_of_service_at_institute_(in_years)': 'institute_service',\n",
    "                    'lengthofservicecurrent._length_of_service_at_current_workplace_(in_years)': 'role_service'}, axis=1, inplace=True)\n",
    "print(tafe_updated.columns)"
   ]
  },
  {
   "cell_type": "markdown",
   "metadata": {},
   "source": [
    "## Keep only resigned entries"
   ]
  },
  {
   "cell_type": "code",
   "execution_count": 34,
   "metadata": {},
   "outputs": [
    {
     "data": {
      "text/plain": [
       "Age Retirement                          285\n",
       "Resignation-Other reasons               150\n",
       "Resignation-Other employer               90\n",
       "Resignation-Move overseas/interstate     70\n",
       "Voluntary Early Retirement (VER)         67\n",
       "Ill Health Retirement                    61\n",
       "Other                                    49\n",
       "Contract Expired                         34\n",
       "Termination                              15\n",
       "Name: separationtype, dtype: int64"
      ]
     },
     "execution_count": 34,
     "metadata": {},
     "output_type": "execute_result"
    }
   ],
   "source": [
    "dete_updated['separationtype'].value_counts()"
   ]
  },
  {
   "cell_type": "code",
   "execution_count": 35,
   "metadata": {},
   "outputs": [
    {
     "data": {
      "text/plain": [
       "Resignation-Other reasons               150\n",
       "Resignation-Other employer               90\n",
       "Resignation-Move overseas/interstate     70\n",
       "Name: separationtype, dtype: int64"
      ]
     },
     "execution_count": 35,
     "metadata": {},
     "output_type": "execute_result"
    }
   ],
   "source": [
    "dete_resig_bool = dete_updated['separationtype'].apply(lambda row: 'Resignation' in row)\n",
    "dete_resig = dete_updated.copy()\n",
    "dete_resig = dete_resig[dete_resig_bool]\n",
    "dete_resig['separationtype'].value_counts()"
   ]
  },
  {
   "cell_type": "code",
   "execution_count": 36,
   "metadata": {},
   "outputs": [
    {
     "data": {
      "text/plain": [
       "Resignation                 340\n",
       "Contract Expired            127\n",
       "Retrenchment/ Redundancy    104\n",
       "Retirement                   82\n",
       "Transfer                     25\n",
       "Termination                  23\n",
       "Name: separationtype, dtype: int64"
      ]
     },
     "execution_count": 36,
     "metadata": {},
     "output_type": "execute_result"
    }
   ],
   "source": [
    "tafe_updated['separationtype'].value_counts()"
   ]
  },
  {
   "cell_type": "code",
   "execution_count": 37,
   "metadata": {},
   "outputs": [
    {
     "data": {
      "text/plain": [
       "Resignation    340\n",
       "Name: separationtype, dtype: int64"
      ]
     },
     "execution_count": 37,
     "metadata": {},
     "output_type": "execute_result"
    }
   ],
   "source": [
    "tafe_resig = tafe_updated.copy()\n",
    "tafe_resig = tafe_resig[tafe_resig['separationtype']=='Resignation']\n",
    "tafe_resig['separationtype'].value_counts()"
   ]
  },
  {
   "cell_type": "markdown",
   "metadata": {},
   "source": [
    "## Create new job dissatisfaction variable"
   ]
  },
  {
   "cell_type": "code",
   "execution_count": 38,
   "metadata": {},
   "outputs": [
    {
     "name": "stdout",
     "output_type": "stream",
     "text": [
      "-                                         277\n",
      "Contributing Factors. Dissatisfaction      55\n",
      "Name: contributing_factors._dissatisfaction, dtype: int64\n",
      "-                      270\n",
      "Job Dissatisfaction     62\n",
      "Name: contributing_factors._job_dissatisfaction, dtype: int64\n"
     ]
    }
   ],
   "source": [
    "tafe_dissat_cols = tafe_resig.filter(regex=r\".*dissatisfaction.*\").columns\n",
    "for col in tafe_dissat_cols:\n",
    "    print(tafe_resig[col].value_counts())"
   ]
  },
  {
   "cell_type": "code",
   "execution_count": 39,
   "metadata": {},
   "outputs": [],
   "source": [
    "for col in tafe_dissat_cols:\n",
    "    tafe_resig[col] = tafe_resig[col].str.contains('Dissatisfaction', na=np.nan)"
   ]
  },
  {
   "cell_type": "code",
   "execution_count": 40,
   "metadata": {},
   "outputs": [
    {
     "data": {
      "text/plain": [
       "False    249\n",
       "True      91\n",
       "Name: dissatisfied, dtype: int64"
      ]
     },
     "execution_count": 40,
     "metadata": {},
     "output_type": "execute_result"
    }
   ],
   "source": [
    "tafe_resig['dissatisfied'] = tafe_resig.filter(regex=r\".*dissatisfaction.*\").any(skipna=True, axis=1)\n",
    "tafe_resig['dissatisfied'].value_counts()"
   ]
  },
  {
   "cell_type": "code",
   "execution_count": 41,
   "metadata": {},
   "outputs": [
    {
     "name": "stdout",
     "output_type": "stream",
     "text": [
      "<class 'pandas.core.frame.DataFrame'>\n",
      "Int64Index: 310 entries, 3 to 821\n",
      "Data columns (total 38 columns):\n",
      " #   Column                               Non-Null Count  Dtype         \n",
      "---  ------                               --------------  -----         \n",
      " 0   id                                   310 non-null    int64         \n",
      " 1   separationtype                       310 non-null    object        \n",
      " 2   cease_date                           299 non-null    datetime64[ns]\n",
      " 3   dete_start_date                      282 non-null    datetime64[ns]\n",
      " 4   role_start_date                      270 non-null    datetime64[ns]\n",
      " 5   position                             307 non-null    object        \n",
      " 6   classification                       160 non-null    object        \n",
      " 7   region                               264 non-null    object        \n",
      " 8   business_unit                        32 non-null     object        \n",
      " 9   employment_status                    306 non-null    object        \n",
      " 10  career_move_to_public_sector         310 non-null    bool          \n",
      " 11  career_move_to_private_sector        310 non-null    bool          \n",
      " 12  interpersonal_conflicts              310 non-null    bool          \n",
      " 13  job_dissatisfaction                  310 non-null    bool          \n",
      " 14  dissatisfaction_with_the_department  310 non-null    bool          \n",
      " 15  physical_work_environment            310 non-null    bool          \n",
      " 16  lack_of_recognition                  310 non-null    bool          \n",
      " 17  lack_of_job_security                 310 non-null    bool          \n",
      " 18  work_location                        310 non-null    bool          \n",
      " 19  employment_conditions                310 non-null    bool          \n",
      " 20  maternity/family                     310 non-null    bool          \n",
      " 21  relocation                           310 non-null    bool          \n",
      " 22  study/travel                         310 non-null    bool          \n",
      " 23  ill_health                           310 non-null    bool          \n",
      " 24  traumatic_incident                   310 non-null    bool          \n",
      " 25  work_life_balance                    310 non-null    bool          \n",
      " 26  workload                             310 non-null    bool          \n",
      " 27  none_of_the_above                    310 non-null    bool          \n",
      " 28  gender                               301 non-null    object        \n",
      " 29  age                                  305 non-null    object        \n",
      " 30  aboriginal                           7 non-null      object        \n",
      " 31  torres_strait                        0 non-null      object        \n",
      " 32  south_sea                            3 non-null      object        \n",
      " 33  disability                           8 non-null      object        \n",
      " 34  nesb                                 9 non-null      object        \n",
      " 35  employment_duration                  272 non-null    float64       \n",
      " 36  employment_duration_cat              272 non-null    object        \n",
      " 37  age_int                              305 non-null    object        \n",
      "dtypes: bool(18), datetime64[ns](3), float64(1), int64(1), object(15)\n",
      "memory usage: 56.3+ KB\n"
     ]
    }
   ],
   "source": [
    "dete_resig.info()"
   ]
  },
  {
   "cell_type": "code",
   "execution_count": 42,
   "metadata": {},
   "outputs": [
    {
     "data": {
      "text/plain": [
       "False    161\n",
       "True     149\n",
       "Name: dissatisfied, dtype: int64"
      ]
     },
     "execution_count": 42,
     "metadata": {},
     "output_type": "execute_result"
    }
   ],
   "source": [
    "dete_resig['dissatisfied'] = dete_resig.iloc[:,np.r_[13:20,25:27]].any(skipna=True, axis=1) # REALLY USEFUL np SLICING TOOL!\n",
    "dete_resig['dissatisfied'].value_counts()"
   ]
  },
  {
   "cell_type": "markdown",
   "metadata": {},
   "source": [
    "## Combine data sets"
   ]
  },
  {
   "cell_type": "code",
   "execution_count": 43,
   "metadata": {},
   "outputs": [],
   "source": [
    "dete_resig['institute'] = \"DETE\"\n",
    "tafe_resig['institute'] = \"TAFE\""
   ]
  },
  {
   "cell_type": "code",
   "execution_count": 44,
   "metadata": {},
   "outputs": [],
   "source": [
    "dete_tafe = pd.concat([dete_resig, tafe_resig])"
   ]
  },
  {
   "cell_type": "code",
   "execution_count": 45,
   "metadata": {},
   "outputs": [
    {
     "name": "stdout",
     "output_type": "stream",
     "text": [
      "<class 'pandas.core.frame.DataFrame'>\n",
      "Int64Index: 650 entries, 3 to 701\n",
      "Data columns (total 55 columns):\n",
      " #   Column                                               Non-Null Count  Dtype         \n",
      "---  ------                                               --------------  -----         \n",
      " 0   id                                                   650 non-null    float64       \n",
      " 1   separationtype                                       650 non-null    object        \n",
      " 2   cease_date                                           634 non-null    object        \n",
      " 3   dete_start_date                                      282 non-null    datetime64[ns]\n",
      " 4   role_start_date                                      270 non-null    datetime64[ns]\n",
      " 5   position                                             597 non-null    object        \n",
      " 6   classification                                       160 non-null    object        \n",
      " 7   region                                               264 non-null    object        \n",
      " 8   business_unit                                        32 non-null     object        \n",
      " 9   employment_status                                    596 non-null    object        \n",
      " 10  career_move_to_public_sector                         310 non-null    object        \n",
      " 11  career_move_to_private_sector                        310 non-null    object        \n",
      " 12  interpersonal_conflicts                              310 non-null    object        \n",
      " 13  job_dissatisfaction                                  310 non-null    object        \n",
      " 14  dissatisfaction_with_the_department                  310 non-null    object        \n",
      " 15  physical_work_environment                            310 non-null    object        \n",
      " 16  lack_of_recognition                                  310 non-null    object        \n",
      " 17  lack_of_job_security                                 310 non-null    object        \n",
      " 18  work_location                                        310 non-null    object        \n",
      " 19  employment_conditions                                310 non-null    object        \n",
      " 20  maternity/family                                     310 non-null    object        \n",
      " 21  relocation                                           310 non-null    object        \n",
      " 22  study/travel                                         310 non-null    object        \n",
      " 23  ill_health                                           310 non-null    object        \n",
      " 24  traumatic_incident                                   310 non-null    object        \n",
      " 25  work_life_balance                                    310 non-null    object        \n",
      " 26  workload                                             310 non-null    object        \n",
      " 27  none_of_the_above                                    310 non-null    object        \n",
      " 28  gender                                               591 non-null    object        \n",
      " 29  age                                                  595 non-null    object        \n",
      " 30  aboriginal                                           7 non-null      object        \n",
      " 31  torres_strait                                        0 non-null      object        \n",
      " 32  south_sea                                            3 non-null      object        \n",
      " 33  disability                                           8 non-null      object        \n",
      " 34  nesb                                                 9 non-null      object        \n",
      " 35  employment_duration                                  272 non-null    float64       \n",
      " 36  employment_duration_cat                              562 non-null    object        \n",
      " 37  age_int                                              595 non-null    object        \n",
      " 38  dissatisfied                                         650 non-null    bool          \n",
      " 39  institute                                            650 non-null    object        \n",
      " 40  workarea                                             340 non-null    object        \n",
      " 41  contributing_factors._career_move_-_public_sector    332 non-null    object        \n",
      " 42  contributing_factors._career_move_-_private_sector   332 non-null    object        \n",
      " 43  contributing_factors._career_move_-_self-employment  332 non-null    object        \n",
      " 44  contributing_factors._ill_health                     332 non-null    object        \n",
      " 45  contributing_factors._maternity/family               332 non-null    object        \n",
      " 46  contributing_factors._dissatisfaction                332 non-null    object        \n",
      " 47  contributing_factors._job_dissatisfaction            332 non-null    object        \n",
      " 48  contributing_factors._interpersonal_conflict         332 non-null    object        \n",
      " 49  contributing_factors._study                          332 non-null    object        \n",
      " 50  contributing_factors._travel                         332 non-null    object        \n",
      " 51  contributing_factors._other                          332 non-null    object        \n",
      " 52  contributing_factors._none                           332 non-null    object        \n",
      " 53  institute_service                                    290 non-null    object        \n",
      " 54  role_service                                         290 non-null    object        \n",
      "dtypes: bool(1), datetime64[ns](2), float64(2), object(50)\n",
      "memory usage: 279.9+ KB\n"
     ]
    }
   ],
   "source": [
    "dete_tafe.info()"
   ]
  },
  {
   "cell_type": "markdown",
   "metadata": {},
   "source": [
    "Looks good on the columns we want, which are `age_int`, `employment_duration_cat`, `dissatisfied`, `institute`, and `separation_type`."
   ]
  },
  {
   "cell_type": "code",
   "execution_count": 46,
   "metadata": {},
   "outputs": [
    {
     "name": "stdout",
     "output_type": "stream",
     "text": [
      "<class 'pandas.core.frame.DataFrame'>\n",
      "Int64Index: 650 entries, 3 to 701\n",
      "Data columns (total 11 columns):\n",
      " #   Column                   Non-Null Count  Dtype  \n",
      "---  ------                   --------------  -----  \n",
      " 0   id                       650 non-null    float64\n",
      " 1   separationtype           650 non-null    object \n",
      " 2   cease_date               634 non-null    object \n",
      " 3   position                 597 non-null    object \n",
      " 4   employment_status        596 non-null    object \n",
      " 5   gender                   591 non-null    object \n",
      " 6   age                      595 non-null    object \n",
      " 7   employment_duration_cat  562 non-null    object \n",
      " 8   age_int                  595 non-null    object \n",
      " 9   dissatisfied             650 non-null    bool   \n",
      " 10  institute                650 non-null    object \n",
      "dtypes: bool(1), float64(1), object(9)\n",
      "memory usage: 56.5+ KB\n"
     ]
    }
   ],
   "source": [
    "dete_tafe_updated = dete_tafe.copy()\n",
    "dete_tafe_updated = dete_tafe_updated.dropna(thresh=500, axis=1)\n",
    "dete_tafe_updated.info()"
   ]
  },
  {
   "cell_type": "code",
   "execution_count": 47,
   "metadata": {},
   "outputs": [
    {
     "data": {
      "text/html": [
       "<div>\n",
       "<style scoped>\n",
       "    .dataframe tbody tr th:only-of-type {\n",
       "        vertical-align: middle;\n",
       "    }\n",
       "\n",
       "    .dataframe tbody tr th {\n",
       "        vertical-align: top;\n",
       "    }\n",
       "\n",
       "    .dataframe thead th {\n",
       "        text-align: right;\n",
       "    }\n",
       "</style>\n",
       "<table border=\"1\" class=\"dataframe\">\n",
       "  <thead>\n",
       "    <tr style=\"text-align: right;\">\n",
       "      <th></th>\n",
       "      <th>id</th>\n",
       "      <th>separationtype</th>\n",
       "      <th>cease_date</th>\n",
       "      <th>position</th>\n",
       "      <th>employment_status</th>\n",
       "      <th>gender</th>\n",
       "      <th>age</th>\n",
       "      <th>employment_duration_cat</th>\n",
       "      <th>age_int</th>\n",
       "      <th>dissatisfied</th>\n",
       "      <th>institute</th>\n",
       "    </tr>\n",
       "  </thead>\n",
       "  <tbody>\n",
       "    <tr>\n",
       "      <th>3</th>\n",
       "      <td>4.000000e+00</td>\n",
       "      <td>Resignation-Other reasons</td>\n",
       "      <td>2012-05-01 00:00:00</td>\n",
       "      <td>Teacher</td>\n",
       "      <td>Permanent Full-time</td>\n",
       "      <td>Female</td>\n",
       "      <td>36-40</td>\n",
       "      <td>Established</td>\n",
       "      <td>36</td>\n",
       "      <td>False</td>\n",
       "      <td>DETE</td>\n",
       "    </tr>\n",
       "    <tr>\n",
       "      <th>5</th>\n",
       "      <td>6.000000e+00</td>\n",
       "      <td>Resignation-Other reasons</td>\n",
       "      <td>2012-05-01 00:00:00</td>\n",
       "      <td>Guidance Officer</td>\n",
       "      <td>Permanent Full-time</td>\n",
       "      <td>Female</td>\n",
       "      <td>41-45</td>\n",
       "      <td>Veteran</td>\n",
       "      <td>41</td>\n",
       "      <td>True</td>\n",
       "      <td>DETE</td>\n",
       "    </tr>\n",
       "    <tr>\n",
       "      <th>8</th>\n",
       "      <td>9.000000e+00</td>\n",
       "      <td>Resignation-Other reasons</td>\n",
       "      <td>2012-07-01 00:00:00</td>\n",
       "      <td>Teacher</td>\n",
       "      <td>Permanent Full-time</td>\n",
       "      <td>Female</td>\n",
       "      <td>31-35</td>\n",
       "      <td>Experienced</td>\n",
       "      <td>31</td>\n",
       "      <td>False</td>\n",
       "      <td>DETE</td>\n",
       "    </tr>\n",
       "    <tr>\n",
       "      <th>9</th>\n",
       "      <td>1.000000e+01</td>\n",
       "      <td>Resignation-Other employer</td>\n",
       "      <td>2012-01-01 00:00:00</td>\n",
       "      <td>Teacher Aide</td>\n",
       "      <td>Permanent Part-time</td>\n",
       "      <td>Female</td>\n",
       "      <td>46-50</td>\n",
       "      <td>Veteran</td>\n",
       "      <td>46</td>\n",
       "      <td>True</td>\n",
       "      <td>DETE</td>\n",
       "    </tr>\n",
       "    <tr>\n",
       "      <th>11</th>\n",
       "      <td>1.200000e+01</td>\n",
       "      <td>Resignation-Move overseas/interstate</td>\n",
       "      <td>2012-01-01 00:00:00</td>\n",
       "      <td>Teacher</td>\n",
       "      <td>Permanent Full-time</td>\n",
       "      <td>Male</td>\n",
       "      <td>31-35</td>\n",
       "      <td>Experienced</td>\n",
       "      <td>31</td>\n",
       "      <td>False</td>\n",
       "      <td>DETE</td>\n",
       "    </tr>\n",
       "    <tr>\n",
       "      <th>...</th>\n",
       "      <td>...</td>\n",
       "      <td>...</td>\n",
       "      <td>...</td>\n",
       "      <td>...</td>\n",
       "      <td>...</td>\n",
       "      <td>...</td>\n",
       "      <td>...</td>\n",
       "      <td>...</td>\n",
       "      <td>...</td>\n",
       "      <td>...</td>\n",
       "      <td>...</td>\n",
       "    </tr>\n",
       "    <tr>\n",
       "      <th>696</th>\n",
       "      <td>6.350660e+17</td>\n",
       "      <td>Resignation</td>\n",
       "      <td>2013</td>\n",
       "      <td>Operational (OO)</td>\n",
       "      <td>Temporary Full-time</td>\n",
       "      <td>Male</td>\n",
       "      <td>21  25</td>\n",
       "      <td>Experienced</td>\n",
       "      <td>21</td>\n",
       "      <td>False</td>\n",
       "      <td>TAFE</td>\n",
       "    </tr>\n",
       "    <tr>\n",
       "      <th>697</th>\n",
       "      <td>6.350668e+17</td>\n",
       "      <td>Resignation</td>\n",
       "      <td>2013</td>\n",
       "      <td>Teacher (including LVT)</td>\n",
       "      <td>Temporary Full-time</td>\n",
       "      <td>Male</td>\n",
       "      <td>51-55</td>\n",
       "      <td>New</td>\n",
       "      <td>51</td>\n",
       "      <td>False</td>\n",
       "      <td>TAFE</td>\n",
       "    </tr>\n",
       "    <tr>\n",
       "      <th>698</th>\n",
       "      <td>6.350677e+17</td>\n",
       "      <td>Resignation</td>\n",
       "      <td>2013</td>\n",
       "      <td>NaN</td>\n",
       "      <td>NaN</td>\n",
       "      <td>NaN</td>\n",
       "      <td>NaN</td>\n",
       "      <td>NaN</td>\n",
       "      <td>NaN</td>\n",
       "      <td>False</td>\n",
       "      <td>TAFE</td>\n",
       "    </tr>\n",
       "    <tr>\n",
       "      <th>699</th>\n",
       "      <td>6.350704e+17</td>\n",
       "      <td>Resignation</td>\n",
       "      <td>2013</td>\n",
       "      <td>Teacher (including LVT)</td>\n",
       "      <td>Permanent Full-time</td>\n",
       "      <td>Female</td>\n",
       "      <td>51-55</td>\n",
       "      <td>Experienced</td>\n",
       "      <td>51</td>\n",
       "      <td>False</td>\n",
       "      <td>TAFE</td>\n",
       "    </tr>\n",
       "    <tr>\n",
       "      <th>701</th>\n",
       "      <td>6.350730e+17</td>\n",
       "      <td>Resignation</td>\n",
       "      <td>2013</td>\n",
       "      <td>Administration (AO)</td>\n",
       "      <td>Contract/casual</td>\n",
       "      <td>Female</td>\n",
       "      <td>26  30</td>\n",
       "      <td>Experienced</td>\n",
       "      <td>26</td>\n",
       "      <td>False</td>\n",
       "      <td>TAFE</td>\n",
       "    </tr>\n",
       "  </tbody>\n",
       "</table>\n",
       "<p>650 rows × 11 columns</p>\n",
       "</div>"
      ],
      "text/plain": [
       "               id                        separationtype           cease_date  \\\n",
       "3    4.000000e+00             Resignation-Other reasons  2012-05-01 00:00:00   \n",
       "5    6.000000e+00             Resignation-Other reasons  2012-05-01 00:00:00   \n",
       "8    9.000000e+00             Resignation-Other reasons  2012-07-01 00:00:00   \n",
       "9    1.000000e+01            Resignation-Other employer  2012-01-01 00:00:00   \n",
       "11   1.200000e+01  Resignation-Move overseas/interstate  2012-01-01 00:00:00   \n",
       "..            ...                                   ...                  ...   \n",
       "696  6.350660e+17                           Resignation                 2013   \n",
       "697  6.350668e+17                           Resignation                 2013   \n",
       "698  6.350677e+17                           Resignation                 2013   \n",
       "699  6.350704e+17                           Resignation                 2013   \n",
       "701  6.350730e+17                           Resignation                 2013   \n",
       "\n",
       "                    position    employment_status  gender     age  \\\n",
       "3                    Teacher  Permanent Full-time  Female   36-40   \n",
       "5           Guidance Officer  Permanent Full-time  Female   41-45   \n",
       "8                    Teacher  Permanent Full-time  Female   31-35   \n",
       "9               Teacher Aide  Permanent Part-time  Female   46-50   \n",
       "11                   Teacher  Permanent Full-time    Male   31-35   \n",
       "..                       ...                  ...     ...     ...   \n",
       "696         Operational (OO)  Temporary Full-time    Male  21  25   \n",
       "697  Teacher (including LVT)  Temporary Full-time    Male   51-55   \n",
       "698                      NaN                  NaN     NaN     NaN   \n",
       "699  Teacher (including LVT)  Permanent Full-time  Female   51-55   \n",
       "701      Administration (AO)      Contract/casual  Female  26  30   \n",
       "\n",
       "    employment_duration_cat age_int  dissatisfied institute  \n",
       "3               Established      36         False      DETE  \n",
       "5                   Veteran      41          True      DETE  \n",
       "8               Experienced      31         False      DETE  \n",
       "9                   Veteran      46          True      DETE  \n",
       "11              Experienced      31         False      DETE  \n",
       "..                      ...     ...           ...       ...  \n",
       "696             Experienced      21         False      TAFE  \n",
       "697                     New      51         False      TAFE  \n",
       "698                     NaN     NaN         False      TAFE  \n",
       "699             Experienced      51         False      TAFE  \n",
       "701             Experienced      26         False      TAFE  \n",
       "\n",
       "[650 rows x 11 columns]"
      ]
     },
     "execution_count": 47,
     "metadata": {},
     "output_type": "execute_result"
    }
   ],
   "source": [
    "dete_tafe_updated"
   ]
  },
  {
   "cell_type": "markdown",
   "metadata": {},
   "source": [
    "## Analyze dissatisfaction by length of employment"
   ]
  },
  {
   "cell_type": "code",
   "execution_count": 48,
   "metadata": {},
   "outputs": [
    {
     "data": {
      "text/plain": [
       "False    410\n",
       "True     240\n",
       "Name: dissatisfied, dtype: int64"
      ]
     },
     "execution_count": 48,
     "metadata": {},
     "output_type": "execute_result"
    }
   ],
   "source": [
    "dete_tafe_updated['dissatisfied'].value_counts(dropna=False)"
   ]
  },
  {
   "cell_type": "code",
   "execution_count": 49,
   "metadata": {},
   "outputs": [
    {
     "data": {
      "text/html": [
       "<div>\n",
       "<style scoped>\n",
       "    .dataframe tbody tr th:only-of-type {\n",
       "        vertical-align: middle;\n",
       "    }\n",
       "\n",
       "    .dataframe tbody tr th {\n",
       "        vertical-align: top;\n",
       "    }\n",
       "\n",
       "    .dataframe thead tr th {\n",
       "        text-align: left;\n",
       "    }\n",
       "\n",
       "    .dataframe thead tr:last-of-type th {\n",
       "        text-align: right;\n",
       "    }\n",
       "</style>\n",
       "<table border=\"1\" class=\"dataframe\">\n",
       "  <thead>\n",
       "    <tr>\n",
       "      <th></th>\n",
       "      <th>count</th>\n",
       "      <th>mean</th>\n",
       "    </tr>\n",
       "    <tr>\n",
       "      <th></th>\n",
       "      <th>dissatisfied</th>\n",
       "      <th>dissatisfied</th>\n",
       "    </tr>\n",
       "    <tr>\n",
       "      <th>employment_duration_cat</th>\n",
       "      <th></th>\n",
       "      <th></th>\n",
       "    </tr>\n",
       "  </thead>\n",
       "  <tbody>\n",
       "    <tr>\n",
       "      <th>Established</th>\n",
       "      <td>62</td>\n",
       "      <td>0.516129</td>\n",
       "    </tr>\n",
       "    <tr>\n",
       "      <th>Experienced</th>\n",
       "      <td>172</td>\n",
       "      <td>0.343023</td>\n",
       "    </tr>\n",
       "    <tr>\n",
       "      <th>New</th>\n",
       "      <td>193</td>\n",
       "      <td>0.295337</td>\n",
       "    </tr>\n",
       "    <tr>\n",
       "      <th>Veteran</th>\n",
       "      <td>135</td>\n",
       "      <td>0.488889</td>\n",
       "    </tr>\n",
       "  </tbody>\n",
       "</table>\n",
       "</div>"
      ],
      "text/plain": [
       "                               count         mean\n",
       "                        dissatisfied dissatisfied\n",
       "employment_duration_cat                          \n",
       "Established                       62     0.516129\n",
       "Experienced                      172     0.343023\n",
       "New                              193     0.295337\n",
       "Veteran                          135     0.488889"
      ]
     },
     "execution_count": 49,
     "metadata": {},
     "output_type": "execute_result"
    }
   ],
   "source": [
    "dissat_by_dur = dete_tafe_updated.pivot_table(index='employment_duration_cat', values='dissatisfied', aggfunc=['count', np.mean])\n",
    "dissat_by_dur"
   ]
  },
  {
   "cell_type": "code",
   "execution_count": 50,
   "metadata": {},
   "outputs": [],
   "source": [
    "dissat_by_dur.index = pd.Categorical(dissat_by_dur.index,\n",
    "                                    categories=['New', 'Experienced', 'Established', 'Veteran'],\n",
    "                                    ordered=True)"
   ]
  },
  {
   "cell_type": "code",
   "execution_count": 51,
   "metadata": {},
   "outputs": [
    {
     "data": {
      "text/plain": [
       "<AxesSubplot:>"
      ]
     },
     "execution_count": 51,
     "metadata": {},
     "output_type": "execute_result"
    },
    {
     "data": {
      "image/png": "[encoded data removed]",
      "text/plain": [
       "<Figure size 432x288 with 1 Axes>"
      ]
     },
     "metadata": {
      "needs_background": "light"
     },
     "output_type": "display_data"
    }
   ],
   "source": [
    "dissat_by_dur.plot(kind='bar', y='mean', legend=False)"
   ]
  },
  {
   "cell_type": "markdown",
   "metadata": {},
   "source": [
    "This plot shows that the most dissatified employees across data sets are those who are established or veterans, with 7+ years at the institute. Employees with less than 7 years at a company show lower rates of dissatisfaction."
   ]
  },
  {
   "cell_type": "markdown",
   "metadata": {},
   "source": [
    "## Analyze dissatisfaction by age"
   ]
  },
  {
   "cell_type": "code",
   "execution_count": 52,
   "metadata": {},
   "outputs": [
    {
     "data": {
      "text/plain": [
       "41    93\n",
       "46    80\n",
       "36    73\n",
       "51    71\n",
       "26    67\n",
       "21    62\n",
       "31    61\n",
       "56    55\n",
       "61    23\n",
       "20    10\n",
       "Name: age_int, dtype: int64"
      ]
     },
     "execution_count": 52,
     "metadata": {},
     "output_type": "execute_result"
    }
   ],
   "source": [
    "dete_tafe_updated['age_int'].value_counts()"
   ]
  },
  {
   "cell_type": "code",
   "execution_count": 53,
   "metadata": {},
   "outputs": [
    {
     "data": {
      "text/html": [
       "<div>\n",
       "<style scoped>\n",
       "    .dataframe tbody tr th:only-of-type {\n",
       "        vertical-align: middle;\n",
       "    }\n",
       "\n",
       "    .dataframe tbody tr th {\n",
       "        vertical-align: top;\n",
       "    }\n",
       "\n",
       "    .dataframe thead tr th {\n",
       "        text-align: left;\n",
       "    }\n",
       "\n",
       "    .dataframe thead tr:last-of-type th {\n",
       "        text-align: right;\n",
       "    }\n",
       "</style>\n",
       "<table border=\"1\" class=\"dataframe\">\n",
       "  <thead>\n",
       "    <tr>\n",
       "      <th></th>\n",
       "      <th>count</th>\n",
       "      <th>mean</th>\n",
       "    </tr>\n",
       "    <tr>\n",
       "      <th></th>\n",
       "      <th>dissatisfied</th>\n",
       "      <th>dissatisfied</th>\n",
       "    </tr>\n",
       "    <tr>\n",
       "      <th>age_int</th>\n",
       "      <th></th>\n",
       "      <th></th>\n",
       "    </tr>\n",
       "  </thead>\n",
       "  <tbody>\n",
       "    <tr>\n",
       "      <th>20</th>\n",
       "      <td>10</td>\n",
       "      <td>0.200000</td>\n",
       "    </tr>\n",
       "    <tr>\n",
       "      <th>21</th>\n",
       "      <td>62</td>\n",
       "      <td>0.306452</td>\n",
       "    </tr>\n",
       "    <tr>\n",
       "      <th>26</th>\n",
       "      <td>67</td>\n",
       "      <td>0.417910</td>\n",
       "    </tr>\n",
       "    <tr>\n",
       "      <th>31</th>\n",
       "      <td>61</td>\n",
       "      <td>0.377049</td>\n",
       "    </tr>\n",
       "    <tr>\n",
       "      <th>36</th>\n",
       "      <td>73</td>\n",
       "      <td>0.342466</td>\n",
       "    </tr>\n",
       "    <tr>\n",
       "      <th>41</th>\n",
       "      <td>93</td>\n",
       "      <td>0.376344</td>\n",
       "    </tr>\n",
       "    <tr>\n",
       "      <th>46</th>\n",
       "      <td>80</td>\n",
       "      <td>0.387500</td>\n",
       "    </tr>\n",
       "    <tr>\n",
       "      <th>51</th>\n",
       "      <td>71</td>\n",
       "      <td>0.422535</td>\n",
       "    </tr>\n",
       "    <tr>\n",
       "      <th>56</th>\n",
       "      <td>55</td>\n",
       "      <td>0.381818</td>\n",
       "    </tr>\n",
       "    <tr>\n",
       "      <th>61</th>\n",
       "      <td>23</td>\n",
       "      <td>0.521739</td>\n",
       "    </tr>\n",
       "  </tbody>\n",
       "</table>\n",
       "</div>"
      ],
      "text/plain": [
       "               count         mean\n",
       "        dissatisfied dissatisfied\n",
       "age_int                          \n",
       "20                10     0.200000\n",
       "21                62     0.306452\n",
       "26                67     0.417910\n",
       "31                61     0.377049\n",
       "36                73     0.342466\n",
       "41                93     0.376344\n",
       "46                80     0.387500\n",
       "51                71     0.422535\n",
       "56                55     0.381818\n",
       "61                23     0.521739"
      ]
     },
     "execution_count": 53,
     "metadata": {},
     "output_type": "execute_result"
    }
   ],
   "source": [
    "dissat_by_age = dete_tafe_updated.pivot_table(index='age_int', values='dissatisfied', aggfunc=['count', np.mean])\n",
    "dissat_by_age"
   ]
  },
  {
   "cell_type": "code",
   "execution_count": 54,
   "metadata": {},
   "outputs": [
    {
     "data": {
      "text/plain": [
       "<AxesSubplot:xlabel='age_int'>"
      ]
     },
     "execution_count": 54,
     "metadata": {},
     "output_type": "execute_result"
    },
    {
     "data": {
      "image/png": "[encoded data removed]",
      "text/plain": [
       "<Figure size 432x288 with 1 Axes>"
      ]
     },
     "metadata": {
      "needs_background": "light"
     },
     "output_type": "display_data"
    }
   ],
   "source": [
    "dissat_by_age.plot(kind='bar', y='mean', legend=False)"
   ]
  },
  {
   "cell_type": "markdown",
   "metadata": {},
   "source": [
    "This plot shows that with age increase, dissatisfaction increases. The trend is not linear, but it may partially explain why veterans are more dissatisfied than new employees, as age and veteran status correlate."
   ]
  },
  {
   "cell_type": "code",
   "execution_count": null,
   "metadata": {},
   "outputs": [],
   "source": []
  }
 ],
 "metadata": {
  "kernelspec": {
   "display_name": "Python 3",
   "language": "python",
   "name": "python3"
  },
  "language_info": {
   "codemirror_mode": {
    "name": "ipython",
    "version": 3
   },
   "file_extension": ".py",
   "mimetype": "text/x-python",
   "name": "python",
   "nbconvert_exporter": "python",
   "pygments_lexer": "ipython3",
   "version": "3.8.5"
  }
 },
 "nbformat": 4,
 "nbformat_minor": 4
}
